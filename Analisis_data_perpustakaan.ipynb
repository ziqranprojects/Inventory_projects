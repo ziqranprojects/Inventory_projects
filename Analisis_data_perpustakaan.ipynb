{
  "nbformat": 4,
  "nbformat_minor": 0,
  "metadata": {
    "colab": {
      "provenance": [],
      "authorship_tag": "ABX9TyMPH37F11J4ckQ7BxlpNriK",
      "include_colab_link": true
    },
    "kernelspec": {
      "name": "python3",
      "display_name": "Python 3"
    },
    "language_info": {
      "name": "python"
    }
  },
  "cells": [
    {
      "cell_type": "markdown",
      "metadata": {
        "id": "view-in-github",
        "colab_type": "text"
      },
      "source": [
        "<a href=\"https://colab.research.google.com/github/ziqranprojects/Inventory_projects/blob/main/Analisis_data_perpustakaan.ipynb\" target=\"_parent\"><img src=\"https://colab.research.google.com/assets/colab-badge.svg\" alt=\"Open In Colab\"/></a>"
      ]
    },
    {
      "cell_type": "code",
      "execution_count": null,
      "metadata": {
        "id": "yWd9di7KVh0M"
      },
      "outputs": [],
      "source": [
        "import pandas as pd\n",
        "import numpy as np\n",
        "import re"
      ]
    },
    {
      "cell_type": "code",
      "source": [
        "rekap_df = pd.read_excel('/content/Data Rekap Buku (1).xlsx')"
      ],
      "metadata": {
        "id": "2FoPUpDmVpAW"
      },
      "execution_count": null,
      "outputs": []
    },
    {
      "cell_type": "code",
      "source": [
        "rekap_df.head(n=5)"
      ],
      "metadata": {
        "colab": {
          "base_uri": "https://localhost:8080/",
          "height": 556
        },
        "id": "gTIPeX6xV3BE",
        "outputId": "035a774d-bf31-4acd-b550-4a611720c616"
      },
      "execution_count": null,
      "outputs": [
        {
          "output_type": "execute_result",
          "data": {
            "text/plain": [
              "                                               Judul   GMD  \\\n",
              "0                               Scientific computing  Text   \n",
              "1                    Converged network architectures  Text   \n",
              "2  Metrics and Models in Software Quality Enginee...  Text   \n",
              "3  Handbook Of Database Security: applications an...  Text   \n",
              "4              Learning PHP, MySQL, JavaScript & CSS  Text   \n",
              "\n",
              "                               Edisi                ISBN  \\\n",
              "0     Edisi Pertama, Cetakan Pertama      0-07- 112229-X   \n",
              "1  Edisi pertama, percetakan pertama       0-471-20250-9   \n",
              "2                        Edisi Kedua   978-0-13-398808-6   \n",
              "3                                NaN   978-0-387-48532-4   \n",
              "4       Cetakan Pertama, Edisi Kedua  978-1-1449-31926-7   \n",
              "\n",
              "                                  Penerbit Tahun Terbit  \\\n",
              "0              McGraw-Hill Companies, Inc.         2002   \n",
              "1                    John Wiley & Sons LTD         2002   \n",
              "2              Addison-Wesley Professional         2005   \n",
              "3  Springer Science + Business Media, LLC.         2008   \n",
              "4                                O\\'REILLY         2012   \n",
              "\n",
              "                   Collation  Nomor Panggil   Bahasa Kota Terbit   Kelas  \\\n",
              "0    xii, 563 halaman; 24 cm      004 HEA s  Inggris     Amerika       4   \n",
              "1     vii, 344 halaman; 25cm  004.652 IBE c  Inggris     Amerika   4.652   \n",
              "2        xxvii, 532 halaman;    005.1 STE m  Inggris     Amerika   005.1   \n",
              "3       v, 577 hlm.; 18x24cm    005.8 MIC h  Inggris     Amerika   005.8   \n",
              "4  xxi, 556 halaman; 25,5 cm   006.76 NIX l  Inggris     Amerika  006.76   \n",
              "\n",
              "                                       Abstrak/Notes  \\\n",
              "0  This bool presents a board overview of numeric...   \n",
              "1  This book deals with the different schemes tha...   \n",
              "2  This is the single best book on software quali...   \n",
              "3                                                NaN   \n",
              "4  If you're familiar with HTML, using the inform...   \n",
              "\n",
              "                                               Cover  \\\n",
              "0                                 img234-min.jpg.jpg   \n",
              "1  WhatsApp_Image_2018-03-27_at_11.39.28_AM.jpeg....   \n",
              "2  Metrics_and_Models_in_Software_Quality_Enginee...   \n",
              "3                                                NaN   \n",
              "4        51a+IBVwKYL._SX379_BO1,204,203,200_.jpg.jpg   \n",
              "\n",
              "                          Pengarang        Statement of Responbility  \\\n",
              "0                  Michael T. Heath               <Michael T. Heath>   \n",
              "1                     Oliver C. Ibe                  <Oliver C. Ibe>   \n",
              "2                       Stephen Kan                    <Stephen Kan>   \n",
              "3  Michael Gertz dan Sushil Jajodia  <Michael Gertz><Sushil Jajodia>   \n",
              "4                       Robin Nixon                    <Robin Nixon>   \n",
              "\n",
              "                                 Subjek           Kode Eksemplar  \n",
              "0          <buku teknik telekomunikasi>                  <A4292>  \n",
              "1  <networking & system administration>                  <A5243>  \n",
              "2                                   NaN  <A7403><A7404><A012139>  \n",
              "3                     <teknik komputer>                  <A0069>  \n",
              "4                                   NaN                  <A3100>  "
            ],
            "text/html": [
              "\n",
              "  <div id=\"df-e539c453-c7f1-44b8-9ca0-b23d7cbc5f6d\" class=\"colab-df-container\">\n",
              "    <div>\n",
              "<style scoped>\n",
              "    .dataframe tbody tr th:only-of-type {\n",
              "        vertical-align: middle;\n",
              "    }\n",
              "\n",
              "    .dataframe tbody tr th {\n",
              "        vertical-align: top;\n",
              "    }\n",
              "\n",
              "    .dataframe thead th {\n",
              "        text-align: right;\n",
              "    }\n",
              "</style>\n",
              "<table border=\"1\" class=\"dataframe\">\n",
              "  <thead>\n",
              "    <tr style=\"text-align: right;\">\n",
              "      <th></th>\n",
              "      <th>Judul</th>\n",
              "      <th>GMD</th>\n",
              "      <th>Edisi</th>\n",
              "      <th>ISBN</th>\n",
              "      <th>Penerbit</th>\n",
              "      <th>Tahun Terbit</th>\n",
              "      <th>Collation</th>\n",
              "      <th>Nomor Panggil</th>\n",
              "      <th>Bahasa</th>\n",
              "      <th>Kota Terbit</th>\n",
              "      <th>Kelas</th>\n",
              "      <th>Abstrak/Notes</th>\n",
              "      <th>Cover</th>\n",
              "      <th>Pengarang</th>\n",
              "      <th>Statement of Responbility</th>\n",
              "      <th>Subjek</th>\n",
              "      <th>Kode Eksemplar</th>\n",
              "    </tr>\n",
              "  </thead>\n",
              "  <tbody>\n",
              "    <tr>\n",
              "      <th>0</th>\n",
              "      <td>Scientific computing</td>\n",
              "      <td>Text</td>\n",
              "      <td>Edisi Pertama, Cetakan Pertama</td>\n",
              "      <td>0-07- 112229-X</td>\n",
              "      <td>McGraw-Hill Companies, Inc.</td>\n",
              "      <td>2002</td>\n",
              "      <td>xii, 563 halaman; 24 cm</td>\n",
              "      <td>004 HEA s</td>\n",
              "      <td>Inggris</td>\n",
              "      <td>Amerika</td>\n",
              "      <td>4</td>\n",
              "      <td>This bool presents a board overview of numeric...</td>\n",
              "      <td>img234-min.jpg.jpg</td>\n",
              "      <td>Michael T. Heath</td>\n",
              "      <td>&lt;Michael T. Heath&gt;</td>\n",
              "      <td>&lt;buku teknik telekomunikasi&gt;</td>\n",
              "      <td>&lt;A4292&gt;</td>\n",
              "    </tr>\n",
              "    <tr>\n",
              "      <th>1</th>\n",
              "      <td>Converged network architectures</td>\n",
              "      <td>Text</td>\n",
              "      <td>Edisi pertama, percetakan pertama</td>\n",
              "      <td>0-471-20250-9</td>\n",
              "      <td>John Wiley &amp; Sons LTD</td>\n",
              "      <td>2002</td>\n",
              "      <td>vii, 344 halaman; 25cm</td>\n",
              "      <td>004.652 IBE c</td>\n",
              "      <td>Inggris</td>\n",
              "      <td>Amerika</td>\n",
              "      <td>4.652</td>\n",
              "      <td>This book deals with the different schemes tha...</td>\n",
              "      <td>WhatsApp_Image_2018-03-27_at_11.39.28_AM.jpeg....</td>\n",
              "      <td>Oliver C. Ibe</td>\n",
              "      <td>&lt;Oliver C. Ibe&gt;</td>\n",
              "      <td>&lt;networking &amp; system administration&gt;</td>\n",
              "      <td>&lt;A5243&gt;</td>\n",
              "    </tr>\n",
              "    <tr>\n",
              "      <th>2</th>\n",
              "      <td>Metrics and Models in Software Quality Enginee...</td>\n",
              "      <td>Text</td>\n",
              "      <td>Edisi Kedua</td>\n",
              "      <td>978-0-13-398808-6</td>\n",
              "      <td>Addison-Wesley Professional</td>\n",
              "      <td>2005</td>\n",
              "      <td>xxvii, 532 halaman;</td>\n",
              "      <td>005.1 STE m</td>\n",
              "      <td>Inggris</td>\n",
              "      <td>Amerika</td>\n",
              "      <td>005.1</td>\n",
              "      <td>This is the single best book on software quali...</td>\n",
              "      <td>Metrics_and_Models_in_Software_Quality_Enginee...</td>\n",
              "      <td>Stephen Kan</td>\n",
              "      <td>&lt;Stephen Kan&gt;</td>\n",
              "      <td>NaN</td>\n",
              "      <td>&lt;A7403&gt;&lt;A7404&gt;&lt;A012139&gt;</td>\n",
              "    </tr>\n",
              "    <tr>\n",
              "      <th>3</th>\n",
              "      <td>Handbook Of Database Security: applications an...</td>\n",
              "      <td>Text</td>\n",
              "      <td>NaN</td>\n",
              "      <td>978-0-387-48532-4</td>\n",
              "      <td>Springer Science + Business Media, LLC.</td>\n",
              "      <td>2008</td>\n",
              "      <td>v, 577 hlm.; 18x24cm</td>\n",
              "      <td>005.8 MIC h</td>\n",
              "      <td>Inggris</td>\n",
              "      <td>Amerika</td>\n",
              "      <td>005.8</td>\n",
              "      <td>NaN</td>\n",
              "      <td>NaN</td>\n",
              "      <td>Michael Gertz dan Sushil Jajodia</td>\n",
              "      <td>&lt;Michael Gertz&gt;&lt;Sushil Jajodia&gt;</td>\n",
              "      <td>&lt;teknik komputer&gt;</td>\n",
              "      <td>&lt;A0069&gt;</td>\n",
              "    </tr>\n",
              "    <tr>\n",
              "      <th>4</th>\n",
              "      <td>Learning PHP, MySQL, JavaScript &amp; CSS</td>\n",
              "      <td>Text</td>\n",
              "      <td>Cetakan Pertama, Edisi Kedua</td>\n",
              "      <td>978-1-1449-31926-7</td>\n",
              "      <td>O\\'REILLY</td>\n",
              "      <td>2012</td>\n",
              "      <td>xxi, 556 halaman; 25,5 cm</td>\n",
              "      <td>006.76 NIX l</td>\n",
              "      <td>Inggris</td>\n",
              "      <td>Amerika</td>\n",
              "      <td>006.76</td>\n",
              "      <td>If you're familiar with HTML, using the inform...</td>\n",
              "      <td>51a+IBVwKYL._SX379_BO1,204,203,200_.jpg.jpg</td>\n",
              "      <td>Robin Nixon</td>\n",
              "      <td>&lt;Robin Nixon&gt;</td>\n",
              "      <td>NaN</td>\n",
              "      <td>&lt;A3100&gt;</td>\n",
              "    </tr>\n",
              "  </tbody>\n",
              "</table>\n",
              "</div>\n",
              "    <div class=\"colab-df-buttons\">\n",
              "\n",
              "  <div class=\"colab-df-container\">\n",
              "    <button class=\"colab-df-convert\" onclick=\"convertToInteractive('df-e539c453-c7f1-44b8-9ca0-b23d7cbc5f6d')\"\n",
              "            title=\"Convert this dataframe to an interactive table.\"\n",
              "            style=\"display:none;\">\n",
              "\n",
              "  <svg xmlns=\"http://www.w3.org/2000/svg\" height=\"24px\" viewBox=\"0 -960 960 960\">\n",
              "    <path d=\"M120-120v-720h720v720H120Zm60-500h600v-160H180v160Zm220 220h160v-160H400v160Zm0 220h160v-160H400v160ZM180-400h160v-160H180v160Zm440 0h160v-160H620v160ZM180-180h160v-160H180v160Zm440 0h160v-160H620v160Z\"/>\n",
              "  </svg>\n",
              "    </button>\n",
              "\n",
              "  <style>\n",
              "    .colab-df-container {\n",
              "      display:flex;\n",
              "      gap: 12px;\n",
              "    }\n",
              "\n",
              "    .colab-df-convert {\n",
              "      background-color: #E8F0FE;\n",
              "      border: none;\n",
              "      border-radius: 50%;\n",
              "      cursor: pointer;\n",
              "      display: none;\n",
              "      fill: #1967D2;\n",
              "      height: 32px;\n",
              "      padding: 0 0 0 0;\n",
              "      width: 32px;\n",
              "    }\n",
              "\n",
              "    .colab-df-convert:hover {\n",
              "      background-color: #E2EBFA;\n",
              "      box-shadow: 0px 1px 2px rgba(60, 64, 67, 0.3), 0px 1px 3px 1px rgba(60, 64, 67, 0.15);\n",
              "      fill: #174EA6;\n",
              "    }\n",
              "\n",
              "    .colab-df-buttons div {\n",
              "      margin-bottom: 4px;\n",
              "    }\n",
              "\n",
              "    [theme=dark] .colab-df-convert {\n",
              "      background-color: #3B4455;\n",
              "      fill: #D2E3FC;\n",
              "    }\n",
              "\n",
              "    [theme=dark] .colab-df-convert:hover {\n",
              "      background-color: #434B5C;\n",
              "      box-shadow: 0px 1px 3px 1px rgba(0, 0, 0, 0.15);\n",
              "      filter: drop-shadow(0px 1px 2px rgba(0, 0, 0, 0.3));\n",
              "      fill: #FFFFFF;\n",
              "    }\n",
              "  </style>\n",
              "\n",
              "    <script>\n",
              "      const buttonEl =\n",
              "        document.querySelector('#df-e539c453-c7f1-44b8-9ca0-b23d7cbc5f6d button.colab-df-convert');\n",
              "      buttonEl.style.display =\n",
              "        google.colab.kernel.accessAllowed ? 'block' : 'none';\n",
              "\n",
              "      async function convertToInteractive(key) {\n",
              "        const element = document.querySelector('#df-e539c453-c7f1-44b8-9ca0-b23d7cbc5f6d');\n",
              "        const dataTable =\n",
              "          await google.colab.kernel.invokeFunction('convertToInteractive',\n",
              "                                                    [key], {});\n",
              "        if (!dataTable) return;\n",
              "\n",
              "        const docLinkHtml = 'Like what you see? Visit the ' +\n",
              "          '<a target=\"_blank\" href=https://colab.research.google.com/notebooks/data_table.ipynb>data table notebook</a>'\n",
              "          + ' to learn more about interactive tables.';\n",
              "        element.innerHTML = '';\n",
              "        dataTable['output_type'] = 'display_data';\n",
              "        await google.colab.output.renderOutput(dataTable, element);\n",
              "        const docLink = document.createElement('div');\n",
              "        docLink.innerHTML = docLinkHtml;\n",
              "        element.appendChild(docLink);\n",
              "      }\n",
              "    </script>\n",
              "  </div>\n",
              "\n",
              "\n",
              "    <div id=\"df-21533e8d-2862-47e6-b7b9-824d7467319b\">\n",
              "      <button class=\"colab-df-quickchart\" onclick=\"quickchart('df-21533e8d-2862-47e6-b7b9-824d7467319b')\"\n",
              "                title=\"Suggest charts\"\n",
              "                style=\"display:none;\">\n",
              "\n",
              "<svg xmlns=\"http://www.w3.org/2000/svg\" height=\"24px\"viewBox=\"0 0 24 24\"\n",
              "     width=\"24px\">\n",
              "    <g>\n",
              "        <path d=\"M19 3H5c-1.1 0-2 .9-2 2v14c0 1.1.9 2 2 2h14c1.1 0 2-.9 2-2V5c0-1.1-.9-2-2-2zM9 17H7v-7h2v7zm4 0h-2V7h2v10zm4 0h-2v-4h2v4z\"/>\n",
              "    </g>\n",
              "</svg>\n",
              "      </button>\n",
              "\n",
              "<style>\n",
              "  .colab-df-quickchart {\n",
              "      --bg-color: #E8F0FE;\n",
              "      --fill-color: #1967D2;\n",
              "      --hover-bg-color: #E2EBFA;\n",
              "      --hover-fill-color: #174EA6;\n",
              "      --disabled-fill-color: #AAA;\n",
              "      --disabled-bg-color: #DDD;\n",
              "  }\n",
              "\n",
              "  [theme=dark] .colab-df-quickchart {\n",
              "      --bg-color: #3B4455;\n",
              "      --fill-color: #D2E3FC;\n",
              "      --hover-bg-color: #434B5C;\n",
              "      --hover-fill-color: #FFFFFF;\n",
              "      --disabled-bg-color: #3B4455;\n",
              "      --disabled-fill-color: #666;\n",
              "  }\n",
              "\n",
              "  .colab-df-quickchart {\n",
              "    background-color: var(--bg-color);\n",
              "    border: none;\n",
              "    border-radius: 50%;\n",
              "    cursor: pointer;\n",
              "    display: none;\n",
              "    fill: var(--fill-color);\n",
              "    height: 32px;\n",
              "    padding: 0;\n",
              "    width: 32px;\n",
              "  }\n",
              "\n",
              "  .colab-df-quickchart:hover {\n",
              "    background-color: var(--hover-bg-color);\n",
              "    box-shadow: 0 1px 2px rgba(60, 64, 67, 0.3), 0 1px 3px 1px rgba(60, 64, 67, 0.15);\n",
              "    fill: var(--button-hover-fill-color);\n",
              "  }\n",
              "\n",
              "  .colab-df-quickchart-complete:disabled,\n",
              "  .colab-df-quickchart-complete:disabled:hover {\n",
              "    background-color: var(--disabled-bg-color);\n",
              "    fill: var(--disabled-fill-color);\n",
              "    box-shadow: none;\n",
              "  }\n",
              "\n",
              "  .colab-df-spinner {\n",
              "    border: 2px solid var(--fill-color);\n",
              "    border-color: transparent;\n",
              "    border-bottom-color: var(--fill-color);\n",
              "    animation:\n",
              "      spin 1s steps(1) infinite;\n",
              "  }\n",
              "\n",
              "  @keyframes spin {\n",
              "    0% {\n",
              "      border-color: transparent;\n",
              "      border-bottom-color: var(--fill-color);\n",
              "      border-left-color: var(--fill-color);\n",
              "    }\n",
              "    20% {\n",
              "      border-color: transparent;\n",
              "      border-left-color: var(--fill-color);\n",
              "      border-top-color: var(--fill-color);\n",
              "    }\n",
              "    30% {\n",
              "      border-color: transparent;\n",
              "      border-left-color: var(--fill-color);\n",
              "      border-top-color: var(--fill-color);\n",
              "      border-right-color: var(--fill-color);\n",
              "    }\n",
              "    40% {\n",
              "      border-color: transparent;\n",
              "      border-right-color: var(--fill-color);\n",
              "      border-top-color: var(--fill-color);\n",
              "    }\n",
              "    60% {\n",
              "      border-color: transparent;\n",
              "      border-right-color: var(--fill-color);\n",
              "    }\n",
              "    80% {\n",
              "      border-color: transparent;\n",
              "      border-right-color: var(--fill-color);\n",
              "      border-bottom-color: var(--fill-color);\n",
              "    }\n",
              "    90% {\n",
              "      border-color: transparent;\n",
              "      border-bottom-color: var(--fill-color);\n",
              "    }\n",
              "  }\n",
              "</style>\n",
              "\n",
              "      <script>\n",
              "        async function quickchart(key) {\n",
              "          const quickchartButtonEl =\n",
              "            document.querySelector('#' + key + ' button');\n",
              "          quickchartButtonEl.disabled = true;  // To prevent multiple clicks.\n",
              "          quickchartButtonEl.classList.add('colab-df-spinner');\n",
              "          try {\n",
              "            const charts = await google.colab.kernel.invokeFunction(\n",
              "                'suggestCharts', [key], {});\n",
              "          } catch (error) {\n",
              "            console.error('Error during call to suggestCharts:', error);\n",
              "          }\n",
              "          quickchartButtonEl.classList.remove('colab-df-spinner');\n",
              "          quickchartButtonEl.classList.add('colab-df-quickchart-complete');\n",
              "        }\n",
              "        (() => {\n",
              "          let quickchartButtonEl =\n",
              "            document.querySelector('#df-21533e8d-2862-47e6-b7b9-824d7467319b button');\n",
              "          quickchartButtonEl.style.display =\n",
              "            google.colab.kernel.accessAllowed ? 'block' : 'none';\n",
              "        })();\n",
              "      </script>\n",
              "    </div>\n",
              "\n",
              "    </div>\n",
              "  </div>\n"
            ],
            "application/vnd.google.colaboratory.intrinsic+json": {
              "type": "dataframe",
              "variable_name": "rekap_df",
              "summary": "{\n  \"name\": \"rekap_df\",\n  \"rows\": 6873,\n  \"fields\": [\n    {\n      \"column\": \"Judul\",\n      \"properties\": {\n        \"dtype\": \"string\",\n        \"num_unique_values\": 6633,\n        \"samples\": [\n          \"Network Security dan Cyber Security : Teori dan Praktik Cisco CCNA, Linux, Windowa, Amazon Aws, Android.\",\n          \"Agile project management with Kanban\",\n          \"Koleksi pemrograman web PHP\"\n        ],\n        \"semantic_type\": \"\",\n        \"description\": \"\"\n      }\n    },\n    {\n      \"column\": \"GMD\",\n      \"properties\": {\n        \"dtype\": \"category\",\n        \"num_unique_values\": 2,\n        \"samples\": [\n          \"GMD\",\n          \"Text\"\n        ],\n        \"semantic_type\": \"\",\n        \"description\": \"\"\n      }\n    },\n    {\n      \"column\": \"Edisi\",\n      \"properties\": {\n        \"dtype\": \"category\",\n        \"num_unique_values\": 621,\n        \"samples\": [\n          \"Cetakan Pertama, Revisi Kedua\",\n          \"Edisi 1\"\n        ],\n        \"semantic_type\": \"\",\n        \"description\": \"\"\n      }\n    },\n    {\n      \"column\": \"ISBN\",\n      \"properties\": {\n        \"dtype\": \"string\",\n        \"num_unique_values\": 6061,\n        \"samples\": [\n          \"978-602-1514-92-4\",\n          \"978-623-00-1480-2\"\n        ],\n        \"semantic_type\": \"\",\n        \"description\": \"\"\n      }\n    },\n    {\n      \"column\": \"Penerbit\",\n      \"properties\": {\n        \"dtype\": \"category\",\n        \"num_unique_values\": 1397,\n        \"samples\": [\n          \"Person Education Limited\",\n          \"pusakabarupress\"\n        ],\n        \"semantic_type\": \"\",\n        \"description\": \"\"\n      }\n    },\n    {\n      \"column\": \"Tahun Terbit\",\n      \"properties\": {\n        \"dtype\": \"category\",\n        \"num_unique_values\": 68,\n        \"samples\": [\n          1945,\n          2013\n        ],\n        \"semantic_type\": \"\",\n        \"description\": \"\"\n      }\n    },\n    {\n      \"column\": \"Collation\",\n      \"properties\": {\n        \"dtype\": \"string\",\n        \"num_unique_values\": 6148,\n        \"samples\": [\n          \"xxviii, 284 halaman; 20,5 cm.\",\n          \"293 halaman; 20.5 cm\"\n        ],\n        \"semantic_type\": \"\",\n        \"description\": \"\"\n      }\n    },\n    {\n      \"column\": \"Nomor Panggil\",\n      \"properties\": {\n        \"dtype\": \"string\",\n        \"num_unique_values\": 6222,\n        \"samples\": [\n          \"530.1 SEA p\",\n          \"331.124 BUD t\"\n        ],\n        \"semantic_type\": \"\",\n        \"description\": \"\"\n      }\n    },\n    {\n      \"column\": \"Bahasa\",\n      \"properties\": {\n        \"dtype\": \"category\",\n        \"num_unique_values\": 7,\n        \"samples\": [\n          \"Inggris\",\n          \"Indonesia\"\n        ],\n        \"semantic_type\": \"\",\n        \"description\": \"\"\n      }\n    },\n    {\n      \"column\": \"Kota Terbit\",\n      \"properties\": {\n        \"dtype\": \"category\",\n        \"num_unique_values\": 135,\n        \"samples\": [\n          \"Pekanbaru, Riau\",\n          \"Kebumen\"\n        ],\n        \"semantic_type\": \"\",\n        \"description\": \"\"\n      }\n    },\n    {\n      \"column\": \"Kelas\",\n      \"properties\": {\n        \"dtype\": \"category\",\n        \"num_unique_values\": 1327,\n        \"samples\": [\n          \"363.11.00\",\n          \"297.01.00\"\n        ],\n        \"semantic_type\": \"\",\n        \"description\": \"\"\n      }\n    },\n    {\n      \"column\": \"Abstrak/Notes\",\n      \"properties\": {\n        \"dtype\": \"string\",\n        \"num_unique_values\": 6166,\n        \"samples\": [\n          \"Isi Buku:rnChapter 1. Energy Band in SolidsrnChapter 2. Transport Phenomena in SemiconductorsrnChapter 3. Junction-Diode CharacteristicsrnChapter 4. Diode CircuitsrnChapter 5. Transistor Characteristics\",\n          \"Bagian I : Undang-undangrnBagian II : Peraturan PemerintahrnBagian III : Keputusan PresidenrnBagian IV : PeraturanrnBagian V : Surat EdaranrnBagian VI : Keputusan Menteri Keuangan\"\n        ],\n        \"semantic_type\": \"\",\n        \"description\": \"\"\n      }\n    },\n    {\n      \"column\": \"Cover\",\n      \"properties\": {\n        \"dtype\": \"string\",\n        \"num_unique_values\": 6398,\n        \"samples\": [\n          \"aplikasi_sms.jpg.jpg\",\n          \"Panduan_menyusun_laporan_tugas_akhir,_skripsi,_dan_tesis_menggunakan_microsoft_word.jpg.jpg\"\n        ],\n        \"semantic_type\": \"\",\n        \"description\": \"\"\n      }\n    },\n    {\n      \"column\": \"Pengarang\",\n      \"properties\": {\n        \"dtype\": \"string\",\n        \"num_unique_values\": 4874,\n        \"samples\": [\n          \"Constantine A. Balanis\",\n          \"Ahmad Shidqi\"\n        ],\n        \"semantic_type\": \"\",\n        \"description\": \"\"\n      }\n    },\n    {\n      \"column\": \"Statement of Responbility\",\n      \"properties\": {\n        \"dtype\": \"string\",\n        \"num_unique_values\": 5005,\n        \"samples\": [\n          \"<Fanny Lesmana>\",\n          \"<John D Kraus>\"\n        ],\n        \"semantic_type\": \"\",\n        \"description\": \"\"\n      }\n    },\n    {\n      \"column\": \"Subjek\",\n      \"properties\": {\n        \"dtype\": \"category\",\n        \"num_unique_values\": 2567,\n        \"samples\": [\n          \"<ensiklopedia><industri kecil>\",\n          \"<rumput laut><sumber daya laut>\"\n        ],\n        \"semantic_type\": \"\",\n        \"description\": \"\"\n      }\n    },\n    {\n      \"column\": \"Kode Eksemplar\",\n      \"properties\": {\n        \"dtype\": \"string\",\n        \"num_unique_values\": 6868,\n        \"samples\": [\n          \"<A010347><A011141>\",\n          \"<A1546>\"\n        ],\n        \"semantic_type\": \"\",\n        \"description\": \"\"\n      }\n    }\n  ]\n}"
            }
          },
          "metadata": {},
          "execution_count": 113
        }
      ]
    },
    {
      "cell_type": "code",
      "source": [
        "rekap_df.info()"
      ],
      "metadata": {
        "colab": {
          "base_uri": "https://localhost:8080/"
        },
        "id": "cu6Wa_C5V6tP",
        "outputId": "64d8c3b6-5535-4e89-8037-097b2cf3dfe8"
      },
      "execution_count": null,
      "outputs": [
        {
          "output_type": "stream",
          "name": "stdout",
          "text": [
            "<class 'pandas.core.frame.DataFrame'>\n",
            "RangeIndex: 6873 entries, 0 to 6872\n",
            "Data columns (total 17 columns):\n",
            " #   Column                     Non-Null Count  Dtype \n",
            "---  ------                     --------------  ----- \n",
            " 0   Judul                      6873 non-null   object\n",
            " 1   GMD                        6873 non-null   object\n",
            " 2   Edisi                      6657 non-null   object\n",
            " 3   ISBN                       6496 non-null   object\n",
            " 4   Penerbit                   6856 non-null   object\n",
            " 5   Tahun Terbit               6815 non-null   object\n",
            " 6   Collation                  6758 non-null   object\n",
            " 7   Nomor Panggil              6873 non-null   object\n",
            " 8   Bahasa                     6873 non-null   object\n",
            " 9   Kota Terbit                6786 non-null   object\n",
            " 10  Kelas                      6873 non-null   object\n",
            " 11  Abstrak/Notes              6295 non-null   object\n",
            " 12  Cover                      6673 non-null   object\n",
            " 13  Pengarang                  6787 non-null   object\n",
            " 14  Statement of Responbility  6865 non-null   object\n",
            " 15  Subjek                     6242 non-null   object\n",
            " 16  Kode Eksemplar             6868 non-null   object\n",
            "dtypes: object(17)\n",
            "memory usage: 912.9+ KB\n"
          ]
        }
      ]
    },
    {
      "cell_type": "code",
      "source": [
        "rekap_df.describe()"
      ],
      "metadata": {
        "colab": {
          "base_uri": "https://localhost:8080/",
          "height": 264
        },
        "id": "aCJIVNKeV9Qp",
        "outputId": "a8f6e19a-2174-4d7e-ead6-114e3dbc3787"
      },
      "execution_count": null,
      "outputs": [
        {
          "output_type": "execute_result",
          "data": {
            "text/plain": [
              "                      Judul   GMD                           Edisi  \\\n",
              "count                  6873  6873                            6657   \n",
              "unique                 6633     2                             621   \n",
              "top     Manajemen pemasaran  Text  Edisi Pertama, Cetakan Pertama   \n",
              "freq                      6  6872                            2750   \n",
              "\n",
              "                 ISBN Penerbit  Tahun Terbit            Collation  \\\n",
              "count            6496     6856          6815                 6758   \n",
              "unique           6061     1397            68                 6148   \n",
              "top     9790000000000     ANDI          2017  320 halaman; 20 cm.   \n",
              "freq              135      430           462                    8   \n",
              "\n",
              "       Nomor Panggil     Bahasa Kota Terbit    Kelas  \\\n",
              "count           6873       6873        6786     6873   \n",
              "unique          6222          7         135     1327   \n",
              "top        031 KUS e  Indonesia  Yogyakarta  899.221   \n",
              "freq              16       5898        2313      481   \n",
              "\n",
              "                                            Abstrak/Notes             Cover  \\\n",
              "count                                                6295              6673   \n",
              "unique                                               6166              6398   \n",
              "top     Indonesia merupakan negara yang kaya, dilihat ...  download.jpg.jpg   \n",
              "freq                                                    8                14   \n",
              "\n",
              "              Pengarang Statement of Responbility             Subjek  \\\n",
              "count              6787                      6865               6242   \n",
              "unique             4874                      5005               2567   \n",
              "top     Wahana Komputer         <Wahana Komputer>  <teknik komputer>   \n",
              "freq                109                       110                471   \n",
              "\n",
              "       Kode Eksemplar  \n",
              "count            6868  \n",
              "unique           6868  \n",
              "top         <A013037>  \n",
              "freq                1  "
            ],
            "text/html": [
              "\n",
              "  <div id=\"df-fbb10d03-ddc7-4018-ab86-09890ddeb956\" class=\"colab-df-container\">\n",
              "    <div>\n",
              "<style scoped>\n",
              "    .dataframe tbody tr th:only-of-type {\n",
              "        vertical-align: middle;\n",
              "    }\n",
              "\n",
              "    .dataframe tbody tr th {\n",
              "        vertical-align: top;\n",
              "    }\n",
              "\n",
              "    .dataframe thead th {\n",
              "        text-align: right;\n",
              "    }\n",
              "</style>\n",
              "<table border=\"1\" class=\"dataframe\">\n",
              "  <thead>\n",
              "    <tr style=\"text-align: right;\">\n",
              "      <th></th>\n",
              "      <th>Judul</th>\n",
              "      <th>GMD</th>\n",
              "      <th>Edisi</th>\n",
              "      <th>ISBN</th>\n",
              "      <th>Penerbit</th>\n",
              "      <th>Tahun Terbit</th>\n",
              "      <th>Collation</th>\n",
              "      <th>Nomor Panggil</th>\n",
              "      <th>Bahasa</th>\n",
              "      <th>Kota Terbit</th>\n",
              "      <th>Kelas</th>\n",
              "      <th>Abstrak/Notes</th>\n",
              "      <th>Cover</th>\n",
              "      <th>Pengarang</th>\n",
              "      <th>Statement of Responbility</th>\n",
              "      <th>Subjek</th>\n",
              "      <th>Kode Eksemplar</th>\n",
              "    </tr>\n",
              "  </thead>\n",
              "  <tbody>\n",
              "    <tr>\n",
              "      <th>count</th>\n",
              "      <td>6873</td>\n",
              "      <td>6873</td>\n",
              "      <td>6657</td>\n",
              "      <td>6496</td>\n",
              "      <td>6856</td>\n",
              "      <td>6815</td>\n",
              "      <td>6758</td>\n",
              "      <td>6873</td>\n",
              "      <td>6873</td>\n",
              "      <td>6786</td>\n",
              "      <td>6873</td>\n",
              "      <td>6295</td>\n",
              "      <td>6673</td>\n",
              "      <td>6787</td>\n",
              "      <td>6865</td>\n",
              "      <td>6242</td>\n",
              "      <td>6868</td>\n",
              "    </tr>\n",
              "    <tr>\n",
              "      <th>unique</th>\n",
              "      <td>6633</td>\n",
              "      <td>2</td>\n",
              "      <td>621</td>\n",
              "      <td>6061</td>\n",
              "      <td>1397</td>\n",
              "      <td>68</td>\n",
              "      <td>6148</td>\n",
              "      <td>6222</td>\n",
              "      <td>7</td>\n",
              "      <td>135</td>\n",
              "      <td>1327</td>\n",
              "      <td>6166</td>\n",
              "      <td>6398</td>\n",
              "      <td>4874</td>\n",
              "      <td>5005</td>\n",
              "      <td>2567</td>\n",
              "      <td>6868</td>\n",
              "    </tr>\n",
              "    <tr>\n",
              "      <th>top</th>\n",
              "      <td>Manajemen pemasaran</td>\n",
              "      <td>Text</td>\n",
              "      <td>Edisi Pertama, Cetakan Pertama</td>\n",
              "      <td>9790000000000</td>\n",
              "      <td>ANDI</td>\n",
              "      <td>2017</td>\n",
              "      <td>320 halaman; 20 cm.</td>\n",
              "      <td>031 KUS e</td>\n",
              "      <td>Indonesia</td>\n",
              "      <td>Yogyakarta</td>\n",
              "      <td>899.221</td>\n",
              "      <td>Indonesia merupakan negara yang kaya, dilihat ...</td>\n",
              "      <td>download.jpg.jpg</td>\n",
              "      <td>Wahana Komputer</td>\n",
              "      <td>&lt;Wahana Komputer&gt;</td>\n",
              "      <td>&lt;teknik komputer&gt;</td>\n",
              "      <td>&lt;A013037&gt;</td>\n",
              "    </tr>\n",
              "    <tr>\n",
              "      <th>freq</th>\n",
              "      <td>6</td>\n",
              "      <td>6872</td>\n",
              "      <td>2750</td>\n",
              "      <td>135</td>\n",
              "      <td>430</td>\n",
              "      <td>462</td>\n",
              "      <td>8</td>\n",
              "      <td>16</td>\n",
              "      <td>5898</td>\n",
              "      <td>2313</td>\n",
              "      <td>481</td>\n",
              "      <td>8</td>\n",
              "      <td>14</td>\n",
              "      <td>109</td>\n",
              "      <td>110</td>\n",
              "      <td>471</td>\n",
              "      <td>1</td>\n",
              "    </tr>\n",
              "  </tbody>\n",
              "</table>\n",
              "</div>\n",
              "    <div class=\"colab-df-buttons\">\n",
              "\n",
              "  <div class=\"colab-df-container\">\n",
              "    <button class=\"colab-df-convert\" onclick=\"convertToInteractive('df-fbb10d03-ddc7-4018-ab86-09890ddeb956')\"\n",
              "            title=\"Convert this dataframe to an interactive table.\"\n",
              "            style=\"display:none;\">\n",
              "\n",
              "  <svg xmlns=\"http://www.w3.org/2000/svg\" height=\"24px\" viewBox=\"0 -960 960 960\">\n",
              "    <path d=\"M120-120v-720h720v720H120Zm60-500h600v-160H180v160Zm220 220h160v-160H400v160Zm0 220h160v-160H400v160ZM180-400h160v-160H180v160Zm440 0h160v-160H620v160ZM180-180h160v-160H180v160Zm440 0h160v-160H620v160Z\"/>\n",
              "  </svg>\n",
              "    </button>\n",
              "\n",
              "  <style>\n",
              "    .colab-df-container {\n",
              "      display:flex;\n",
              "      gap: 12px;\n",
              "    }\n",
              "\n",
              "    .colab-df-convert {\n",
              "      background-color: #E8F0FE;\n",
              "      border: none;\n",
              "      border-radius: 50%;\n",
              "      cursor: pointer;\n",
              "      display: none;\n",
              "      fill: #1967D2;\n",
              "      height: 32px;\n",
              "      padding: 0 0 0 0;\n",
              "      width: 32px;\n",
              "    }\n",
              "\n",
              "    .colab-df-convert:hover {\n",
              "      background-color: #E2EBFA;\n",
              "      box-shadow: 0px 1px 2px rgba(60, 64, 67, 0.3), 0px 1px 3px 1px rgba(60, 64, 67, 0.15);\n",
              "      fill: #174EA6;\n",
              "    }\n",
              "\n",
              "    .colab-df-buttons div {\n",
              "      margin-bottom: 4px;\n",
              "    }\n",
              "\n",
              "    [theme=dark] .colab-df-convert {\n",
              "      background-color: #3B4455;\n",
              "      fill: #D2E3FC;\n",
              "    }\n",
              "\n",
              "    [theme=dark] .colab-df-convert:hover {\n",
              "      background-color: #434B5C;\n",
              "      box-shadow: 0px 1px 3px 1px rgba(0, 0, 0, 0.15);\n",
              "      filter: drop-shadow(0px 1px 2px rgba(0, 0, 0, 0.3));\n",
              "      fill: #FFFFFF;\n",
              "    }\n",
              "  </style>\n",
              "\n",
              "    <script>\n",
              "      const buttonEl =\n",
              "        document.querySelector('#df-fbb10d03-ddc7-4018-ab86-09890ddeb956 button.colab-df-convert');\n",
              "      buttonEl.style.display =\n",
              "        google.colab.kernel.accessAllowed ? 'block' : 'none';\n",
              "\n",
              "      async function convertToInteractive(key) {\n",
              "        const element = document.querySelector('#df-fbb10d03-ddc7-4018-ab86-09890ddeb956');\n",
              "        const dataTable =\n",
              "          await google.colab.kernel.invokeFunction('convertToInteractive',\n",
              "                                                    [key], {});\n",
              "        if (!dataTable) return;\n",
              "\n",
              "        const docLinkHtml = 'Like what you see? Visit the ' +\n",
              "          '<a target=\"_blank\" href=https://colab.research.google.com/notebooks/data_table.ipynb>data table notebook</a>'\n",
              "          + ' to learn more about interactive tables.';\n",
              "        element.innerHTML = '';\n",
              "        dataTable['output_type'] = 'display_data';\n",
              "        await google.colab.output.renderOutput(dataTable, element);\n",
              "        const docLink = document.createElement('div');\n",
              "        docLink.innerHTML = docLinkHtml;\n",
              "        element.appendChild(docLink);\n",
              "      }\n",
              "    </script>\n",
              "  </div>\n",
              "\n",
              "\n",
              "    <div id=\"df-c6221f84-37ce-486a-a791-2052dcf9ba7b\">\n",
              "      <button class=\"colab-df-quickchart\" onclick=\"quickchart('df-c6221f84-37ce-486a-a791-2052dcf9ba7b')\"\n",
              "                title=\"Suggest charts\"\n",
              "                style=\"display:none;\">\n",
              "\n",
              "<svg xmlns=\"http://www.w3.org/2000/svg\" height=\"24px\"viewBox=\"0 0 24 24\"\n",
              "     width=\"24px\">\n",
              "    <g>\n",
              "        <path d=\"M19 3H5c-1.1 0-2 .9-2 2v14c0 1.1.9 2 2 2h14c1.1 0 2-.9 2-2V5c0-1.1-.9-2-2-2zM9 17H7v-7h2v7zm4 0h-2V7h2v10zm4 0h-2v-4h2v4z\"/>\n",
              "    </g>\n",
              "</svg>\n",
              "      </button>\n",
              "\n",
              "<style>\n",
              "  .colab-df-quickchart {\n",
              "      --bg-color: #E8F0FE;\n",
              "      --fill-color: #1967D2;\n",
              "      --hover-bg-color: #E2EBFA;\n",
              "      --hover-fill-color: #174EA6;\n",
              "      --disabled-fill-color: #AAA;\n",
              "      --disabled-bg-color: #DDD;\n",
              "  }\n",
              "\n",
              "  [theme=dark] .colab-df-quickchart {\n",
              "      --bg-color: #3B4455;\n",
              "      --fill-color: #D2E3FC;\n",
              "      --hover-bg-color: #434B5C;\n",
              "      --hover-fill-color: #FFFFFF;\n",
              "      --disabled-bg-color: #3B4455;\n",
              "      --disabled-fill-color: #666;\n",
              "  }\n",
              "\n",
              "  .colab-df-quickchart {\n",
              "    background-color: var(--bg-color);\n",
              "    border: none;\n",
              "    border-radius: 50%;\n",
              "    cursor: pointer;\n",
              "    display: none;\n",
              "    fill: var(--fill-color);\n",
              "    height: 32px;\n",
              "    padding: 0;\n",
              "    width: 32px;\n",
              "  }\n",
              "\n",
              "  .colab-df-quickchart:hover {\n",
              "    background-color: var(--hover-bg-color);\n",
              "    box-shadow: 0 1px 2px rgba(60, 64, 67, 0.3), 0 1px 3px 1px rgba(60, 64, 67, 0.15);\n",
              "    fill: var(--button-hover-fill-color);\n",
              "  }\n",
              "\n",
              "  .colab-df-quickchart-complete:disabled,\n",
              "  .colab-df-quickchart-complete:disabled:hover {\n",
              "    background-color: var(--disabled-bg-color);\n",
              "    fill: var(--disabled-fill-color);\n",
              "    box-shadow: none;\n",
              "  }\n",
              "\n",
              "  .colab-df-spinner {\n",
              "    border: 2px solid var(--fill-color);\n",
              "    border-color: transparent;\n",
              "    border-bottom-color: var(--fill-color);\n",
              "    animation:\n",
              "      spin 1s steps(1) infinite;\n",
              "  }\n",
              "\n",
              "  @keyframes spin {\n",
              "    0% {\n",
              "      border-color: transparent;\n",
              "      border-bottom-color: var(--fill-color);\n",
              "      border-left-color: var(--fill-color);\n",
              "    }\n",
              "    20% {\n",
              "      border-color: transparent;\n",
              "      border-left-color: var(--fill-color);\n",
              "      border-top-color: var(--fill-color);\n",
              "    }\n",
              "    30% {\n",
              "      border-color: transparent;\n",
              "      border-left-color: var(--fill-color);\n",
              "      border-top-color: var(--fill-color);\n",
              "      border-right-color: var(--fill-color);\n",
              "    }\n",
              "    40% {\n",
              "      border-color: transparent;\n",
              "      border-right-color: var(--fill-color);\n",
              "      border-top-color: var(--fill-color);\n",
              "    }\n",
              "    60% {\n",
              "      border-color: transparent;\n",
              "      border-right-color: var(--fill-color);\n",
              "    }\n",
              "    80% {\n",
              "      border-color: transparent;\n",
              "      border-right-color: var(--fill-color);\n",
              "      border-bottom-color: var(--fill-color);\n",
              "    }\n",
              "    90% {\n",
              "      border-color: transparent;\n",
              "      border-bottom-color: var(--fill-color);\n",
              "    }\n",
              "  }\n",
              "</style>\n",
              "\n",
              "      <script>\n",
              "        async function quickchart(key) {\n",
              "          const quickchartButtonEl =\n",
              "            document.querySelector('#' + key + ' button');\n",
              "          quickchartButtonEl.disabled = true;  // To prevent multiple clicks.\n",
              "          quickchartButtonEl.classList.add('colab-df-spinner');\n",
              "          try {\n",
              "            const charts = await google.colab.kernel.invokeFunction(\n",
              "                'suggestCharts', [key], {});\n",
              "          } catch (error) {\n",
              "            console.error('Error during call to suggestCharts:', error);\n",
              "          }\n",
              "          quickchartButtonEl.classList.remove('colab-df-spinner');\n",
              "          quickchartButtonEl.classList.add('colab-df-quickchart-complete');\n",
              "        }\n",
              "        (() => {\n",
              "          let quickchartButtonEl =\n",
              "            document.querySelector('#df-c6221f84-37ce-486a-a791-2052dcf9ba7b button');\n",
              "          quickchartButtonEl.style.display =\n",
              "            google.colab.kernel.accessAllowed ? 'block' : 'none';\n",
              "        })();\n",
              "      </script>\n",
              "    </div>\n",
              "\n",
              "    </div>\n",
              "  </div>\n"
            ],
            "application/vnd.google.colaboratory.intrinsic+json": {
              "type": "dataframe",
              "summary": "{\n  \"name\": \"rekap_df\",\n  \"rows\": 4,\n  \"fields\": [\n    {\n      \"column\": \"Judul\",\n      \"properties\": {\n        \"dtype\": \"string\",\n        \"num_unique_values\": 4,\n        \"samples\": [\n          6633,\n          \"6\",\n          \"6873\"\n        ],\n        \"semantic_type\": \"\",\n        \"description\": \"\"\n      }\n    },\n    {\n      \"column\": \"GMD\",\n      \"properties\": {\n        \"dtype\": \"string\",\n        \"num_unique_values\": 4,\n        \"samples\": [\n          2,\n          \"6872\",\n          \"6873\"\n        ],\n        \"semantic_type\": \"\",\n        \"description\": \"\"\n      }\n    },\n    {\n      \"column\": \"Edisi\",\n      \"properties\": {\n        \"dtype\": \"string\",\n        \"num_unique_values\": 4,\n        \"samples\": [\n          621,\n          \"2750\",\n          \"6657\"\n        ],\n        \"semantic_type\": \"\",\n        \"description\": \"\"\n      }\n    },\n    {\n      \"column\": \"ISBN\",\n      \"properties\": {\n        \"dtype\": \"number\",\n        \"std\": 4894999997884,\n        \"min\": 135,\n        \"max\": 9790000000000,\n        \"num_unique_values\": 4,\n        \"samples\": [\n          6061,\n          135,\n          6496\n        ],\n        \"semantic_type\": \"\",\n        \"description\": \"\"\n      }\n    },\n    {\n      \"column\": \"Penerbit\",\n      \"properties\": {\n        \"dtype\": \"string\",\n        \"num_unique_values\": 4,\n        \"samples\": [\n          1397,\n          \"430\",\n          \"6856\"\n        ],\n        \"semantic_type\": \"\",\n        \"description\": \"\"\n      }\n    },\n    {\n      \"column\": \"Tahun Terbit\",\n      \"properties\": {\n        \"dtype\": \"number\",\n        \"std\": 3099,\n        \"min\": 68,\n        \"max\": 6815,\n        \"num_unique_values\": 4,\n        \"samples\": [\n          68,\n          462,\n          6815\n        ],\n        \"semantic_type\": \"\",\n        \"description\": \"\"\n      }\n    },\n    {\n      \"column\": \"Collation\",\n      \"properties\": {\n        \"dtype\": \"string\",\n        \"num_unique_values\": 4,\n        \"samples\": [\n          6148,\n          \"8\",\n          \"6758\"\n        ],\n        \"semantic_type\": \"\",\n        \"description\": \"\"\n      }\n    },\n    {\n      \"column\": \"Nomor Panggil\",\n      \"properties\": {\n        \"dtype\": \"string\",\n        \"num_unique_values\": 4,\n        \"samples\": [\n          6222,\n          \"16\",\n          \"6873\"\n        ],\n        \"semantic_type\": \"\",\n        \"description\": \"\"\n      }\n    },\n    {\n      \"column\": \"Bahasa\",\n      \"properties\": {\n        \"dtype\": \"string\",\n        \"num_unique_values\": 4,\n        \"samples\": [\n          7,\n          \"5898\",\n          \"6873\"\n        ],\n        \"semantic_type\": \"\",\n        \"description\": \"\"\n      }\n    },\n    {\n      \"column\": \"Kota Terbit\",\n      \"properties\": {\n        \"dtype\": \"string\",\n        \"num_unique_values\": 4,\n        \"samples\": [\n          135,\n          \"2313\",\n          \"6786\"\n        ],\n        \"semantic_type\": \"\",\n        \"description\": \"\"\n      }\n    },\n    {\n      \"column\": \"Kelas\",\n      \"properties\": {\n        \"dtype\": \"string\",\n        \"num_unique_values\": 4,\n        \"samples\": [\n          1327,\n          \"481\",\n          \"6873\"\n        ],\n        \"semantic_type\": \"\",\n        \"description\": \"\"\n      }\n    },\n    {\n      \"column\": \"Abstrak/Notes\",\n      \"properties\": {\n        \"dtype\": \"string\",\n        \"num_unique_values\": 4,\n        \"samples\": [\n          6166,\n          \"8\",\n          \"6295\"\n        ],\n        \"semantic_type\": \"\",\n        \"description\": \"\"\n      }\n    },\n    {\n      \"column\": \"Cover\",\n      \"properties\": {\n        \"dtype\": \"string\",\n        \"num_unique_values\": 4,\n        \"samples\": [\n          6398,\n          \"14\",\n          \"6673\"\n        ],\n        \"semantic_type\": \"\",\n        \"description\": \"\"\n      }\n    },\n    {\n      \"column\": \"Pengarang\",\n      \"properties\": {\n        \"dtype\": \"string\",\n        \"num_unique_values\": 4,\n        \"samples\": [\n          4874,\n          \"109\",\n          \"6787\"\n        ],\n        \"semantic_type\": \"\",\n        \"description\": \"\"\n      }\n    },\n    {\n      \"column\": \"Statement of Responbility\",\n      \"properties\": {\n        \"dtype\": \"string\",\n        \"num_unique_values\": 4,\n        \"samples\": [\n          5005,\n          \"110\",\n          \"6865\"\n        ],\n        \"semantic_type\": \"\",\n        \"description\": \"\"\n      }\n    },\n    {\n      \"column\": \"Subjek\",\n      \"properties\": {\n        \"dtype\": \"string\",\n        \"num_unique_values\": 4,\n        \"samples\": [\n          2567,\n          \"471\",\n          \"6242\"\n        ],\n        \"semantic_type\": \"\",\n        \"description\": \"\"\n      }\n    },\n    {\n      \"column\": \"Kode Eksemplar\",\n      \"properties\": {\n        \"dtype\": \"string\",\n        \"num_unique_values\": 3,\n        \"samples\": [\n          \"6868\",\n          \"<A013037>\",\n          \"1\"\n        ],\n        \"semantic_type\": \"\",\n        \"description\": \"\"\n      }\n    }\n  ]\n}"
            }
          },
          "metadata": {},
          "execution_count": 115
        }
      ]
    },
    {
      "cell_type": "code",
      "source": [
        "rekap_df.isnull().sum()"
      ],
      "metadata": {
        "colab": {
          "base_uri": "https://localhost:8080/",
          "height": 617
        },
        "id": "VwmY3J-CWAgL",
        "outputId": "52cc94ac-93f7-4d02-9d3b-bf9eb88765e6"
      },
      "execution_count": null,
      "outputs": [
        {
          "output_type": "execute_result",
          "data": {
            "text/plain": [
              "Judul                          0\n",
              "GMD                            0\n",
              "Edisi                        216\n",
              "ISBN                         377\n",
              "Penerbit                      17\n",
              "Tahun Terbit                  58\n",
              "Collation                    115\n",
              "Nomor Panggil                  0\n",
              "Bahasa                         0\n",
              "Kota Terbit                   87\n",
              "Kelas                          0\n",
              "Abstrak/Notes                578\n",
              "Cover                        200\n",
              "Pengarang                     86\n",
              "Statement of Responbility      8\n",
              "Subjek                       631\n",
              "Kode Eksemplar                 5\n",
              "dtype: int64"
            ],
            "text/html": [
              "<div>\n",
              "<style scoped>\n",
              "    .dataframe tbody tr th:only-of-type {\n",
              "        vertical-align: middle;\n",
              "    }\n",
              "\n",
              "    .dataframe tbody tr th {\n",
              "        vertical-align: top;\n",
              "    }\n",
              "\n",
              "    .dataframe thead th {\n",
              "        text-align: right;\n",
              "    }\n",
              "</style>\n",
              "<table border=\"1\" class=\"dataframe\">\n",
              "  <thead>\n",
              "    <tr style=\"text-align: right;\">\n",
              "      <th></th>\n",
              "      <th>0</th>\n",
              "    </tr>\n",
              "  </thead>\n",
              "  <tbody>\n",
              "    <tr>\n",
              "      <th>Judul</th>\n",
              "      <td>0</td>\n",
              "    </tr>\n",
              "    <tr>\n",
              "      <th>GMD</th>\n",
              "      <td>0</td>\n",
              "    </tr>\n",
              "    <tr>\n",
              "      <th>Edisi</th>\n",
              "      <td>216</td>\n",
              "    </tr>\n",
              "    <tr>\n",
              "      <th>ISBN</th>\n",
              "      <td>377</td>\n",
              "    </tr>\n",
              "    <tr>\n",
              "      <th>Penerbit</th>\n",
              "      <td>17</td>\n",
              "    </tr>\n",
              "    <tr>\n",
              "      <th>Tahun Terbit</th>\n",
              "      <td>58</td>\n",
              "    </tr>\n",
              "    <tr>\n",
              "      <th>Collation</th>\n",
              "      <td>115</td>\n",
              "    </tr>\n",
              "    <tr>\n",
              "      <th>Nomor Panggil</th>\n",
              "      <td>0</td>\n",
              "    </tr>\n",
              "    <tr>\n",
              "      <th>Bahasa</th>\n",
              "      <td>0</td>\n",
              "    </tr>\n",
              "    <tr>\n",
              "      <th>Kota Terbit</th>\n",
              "      <td>87</td>\n",
              "    </tr>\n",
              "    <tr>\n",
              "      <th>Kelas</th>\n",
              "      <td>0</td>\n",
              "    </tr>\n",
              "    <tr>\n",
              "      <th>Abstrak/Notes</th>\n",
              "      <td>578</td>\n",
              "    </tr>\n",
              "    <tr>\n",
              "      <th>Cover</th>\n",
              "      <td>200</td>\n",
              "    </tr>\n",
              "    <tr>\n",
              "      <th>Pengarang</th>\n",
              "      <td>86</td>\n",
              "    </tr>\n",
              "    <tr>\n",
              "      <th>Statement of Responbility</th>\n",
              "      <td>8</td>\n",
              "    </tr>\n",
              "    <tr>\n",
              "      <th>Subjek</th>\n",
              "      <td>631</td>\n",
              "    </tr>\n",
              "    <tr>\n",
              "      <th>Kode Eksemplar</th>\n",
              "      <td>5</td>\n",
              "    </tr>\n",
              "  </tbody>\n",
              "</table>\n",
              "</div><br><label><b>dtype:</b> int64</label>"
            ]
          },
          "metadata": {},
          "execution_count": 116
        }
      ]
    },
    {
      "cell_type": "code",
      "source": [
        "# Merubah tipe data kolom judul\n",
        "\n",
        "rekap_df[\"Judul\"] = rekap_df[\"Judul\"].astype(\"string\")"
      ],
      "metadata": {
        "id": "syWvvpafWr_7"
      },
      "execution_count": null,
      "outputs": []
    },
    {
      "cell_type": "code",
      "source": [
        "# Convert 'Tahun Terbit' column to numeric, handling errors by coercing them to NaN\n",
        "rekap_df[\"Tahun Terbit\"] = pd.to_numeric(rekap_df[\"Tahun Terbit\"], errors='coerce')\n",
        "\n",
        "# Now convert to Int64, ignoring NaNs which are introduced by the previous step\n",
        "rekap_df[\"Tahun Terbit\"] = rekap_df[\"Tahun Terbit\"].astype('Int64', errors='ignore')"
      ],
      "metadata": {
        "id": "svxVdNl4W7ce"
      },
      "execution_count": null,
      "outputs": []
    },
    {
      "cell_type": "code",
      "source": [
        "rekap_df.info()"
      ],
      "metadata": {
        "colab": {
          "base_uri": "https://localhost:8080/"
        },
        "id": "k45mVifWXg4z",
        "outputId": "d7ee0ac0-1f96-414b-cbb8-3fcdbb1a3b84"
      },
      "execution_count": null,
      "outputs": [
        {
          "output_type": "stream",
          "name": "stdout",
          "text": [
            "<class 'pandas.core.frame.DataFrame'>\n",
            "RangeIndex: 6873 entries, 0 to 6872\n",
            "Data columns (total 17 columns):\n",
            " #   Column                     Non-Null Count  Dtype \n",
            "---  ------                     --------------  ----- \n",
            " 0   Judul                      6873 non-null   string\n",
            " 1   GMD                        6873 non-null   object\n",
            " 2   Edisi                      6657 non-null   object\n",
            " 3   ISBN                       6496 non-null   object\n",
            " 4   Penerbit                   6856 non-null   object\n",
            " 5   Tahun Terbit               6814 non-null   Int64 \n",
            " 6   Collation                  6758 non-null   object\n",
            " 7   Nomor Panggil              6873 non-null   object\n",
            " 8   Bahasa                     6873 non-null   object\n",
            " 9   Kota Terbit                6786 non-null   object\n",
            " 10  Kelas                      6873 non-null   object\n",
            " 11  Abstrak/Notes              6295 non-null   object\n",
            " 12  Cover                      6673 non-null   object\n",
            " 13  Pengarang                  6787 non-null   object\n",
            " 14  Statement of Responbility  6865 non-null   object\n",
            " 15  Subjek                     6242 non-null   object\n",
            " 16  Kode Eksemplar             6868 non-null   object\n",
            "dtypes: Int64(1), object(15), string(1)\n",
            "memory usage: 919.7+ KB\n"
          ]
        }
      ]
    },
    {
      "cell_type": "code",
      "source": [
        "# Menambahkan kolom Book_id pada tabel rekap_df\n",
        "\n",
        "rekap_df['Book_ID'] = ['BK' + str(i).zfill(4) for i in range(1, len(rekap_df) + 1)]"
      ],
      "metadata": {
        "id": "KG-QFMgdWcvc"
      },
      "execution_count": null,
      "outputs": []
    },
    {
      "cell_type": "code",
      "source": [
        "# Memeriksa nilai uniq pada kolom bahasa\n",
        "\n",
        "bahasa = rekap_df[\"Bahasa\"].unique()\n",
        "\n",
        "bahasa"
      ],
      "metadata": {
        "colab": {
          "base_uri": "https://localhost:8080/"
        },
        "id": "SejWjAt0YYth",
        "outputId": "f32c9c88-349f-4f1e-b595-fd5f898cbe90"
      },
      "execution_count": null,
      "outputs": [
        {
          "output_type": "execute_result",
          "data": {
            "text/plain": [
              "array(['Inggris', 'Indonesia', 'Indonesia-Inggris', 'Indonesia-Arab',\n",
              "       'Jawa', 'Indonesia-Korea', 'Bahasa'], dtype=object)"
            ]
          },
          "metadata": {},
          "execution_count": 121
        }
      ]
    },
    {
      "cell_type": "code",
      "source": [
        "#Memeriksa nilai unik pada kolom GMD\n",
        "\n",
        "GMD = rekap_df[\"GMD\"].unique()\n",
        "GMD"
      ],
      "metadata": {
        "colab": {
          "base_uri": "https://localhost:8080/"
        },
        "id": "5x5EhNjpYe01",
        "outputId": "025065f3-e90c-4880-a073-76d8e826d862"
      },
      "execution_count": null,
      "outputs": [
        {
          "output_type": "execute_result",
          "data": {
            "text/plain": [
              "array(['Text', 'GMD'], dtype=object)"
            ]
          },
          "metadata": {},
          "execution_count": 122
        }
      ]
    },
    {
      "cell_type": "code",
      "source": [
        "# Mengganti nilai GMD pada kolom GMD menjadi Text\n",
        "\n",
        "rekap_df['GMD'] = rekap_df['GMD'].replace(\"GMD\", \"Text\")"
      ],
      "metadata": {
        "id": "UCkZU7iSYf0y"
      },
      "execution_count": null,
      "outputs": []
    },
    {
      "cell_type": "code",
      "source": [
        "# Menghitung jumlah kemunculan nilai 'ANDI' pada kolom penerbit\n",
        "jumlah  = rekap_df['Penerbit'].value_counts()['ANDI']\n",
        "\n",
        "print(jumlah)"
      ],
      "metadata": {
        "colab": {
          "base_uri": "https://localhost:8080/"
        },
        "id": "6LTH97nXZjgR",
        "outputId": "e196ceec-338f-4c9a-d89e-a3741cb419bb"
      },
      "execution_count": null,
      "outputs": [
        {
          "output_type": "stream",
          "name": "stdout",
          "text": [
            "430\n"
          ]
        }
      ]
    },
    {
      "cell_type": "code",
      "source": [
        "# Fungsi Normalisasi\n",
        "def normalize_text(text):\n",
        "    text = text.lower()\n",
        "    text = re.sub(r\"[\\(\\)\\[\\]\\{\\}\\-\\!\\:\\;]\", \"\", text)\n",
        "    text = re.sub(r\"\\bedisi\\s*\\d*\\b|\\bcetakan\\s*\\d*\\b|\\bmcgraw-hill\\b\", \"\", text)\n",
        "    text = re.sub(r\"\\s+\", \" \", text).strip()\n",
        "    return text\n",
        "\n",
        "# Terapkan fungsi normalisasi\n",
        "rekap_df[\"Judul_Normalized\"] = rekap_df[\"Judul\"].apply(normalize_text)"
      ],
      "metadata": {
        "id": "OmEJHoPUbX6G"
      },
      "execution_count": null,
      "outputs": []
    },
    {
      "cell_type": "code",
      "source": [
        "rekap_df = rekap_df.drop(columns=['Judul'])"
      ],
      "metadata": {
        "id": "R8EO_xLvbzF-"
      },
      "execution_count": null,
      "outputs": []
    },
    {
      "cell_type": "code",
      "source": [
        "rekap_df.info()"
      ],
      "metadata": {
        "colab": {
          "base_uri": "https://localhost:8080/"
        },
        "id": "QlJ-U1F-b2ds",
        "outputId": "09e3fab4-0108-465a-98c4-5bfc4764ab14"
      },
      "execution_count": null,
      "outputs": [
        {
          "output_type": "stream",
          "name": "stdout",
          "text": [
            "<class 'pandas.core.frame.DataFrame'>\n",
            "RangeIndex: 6873 entries, 0 to 6872\n",
            "Data columns (total 18 columns):\n",
            " #   Column                     Non-Null Count  Dtype \n",
            "---  ------                     --------------  ----- \n",
            " 0   GMD                        6873 non-null   object\n",
            " 1   Edisi                      6657 non-null   object\n",
            " 2   ISBN                       6496 non-null   object\n",
            " 3   Penerbit                   6856 non-null   object\n",
            " 4   Tahun Terbit               6814 non-null   Int64 \n",
            " 5   Collation                  6758 non-null   object\n",
            " 6   Nomor Panggil              6873 non-null   object\n",
            " 7   Bahasa                     6873 non-null   object\n",
            " 8   Kota Terbit                6786 non-null   object\n",
            " 9   Kelas                      6873 non-null   object\n",
            " 10  Abstrak/Notes              6295 non-null   object\n",
            " 11  Cover                      6673 non-null   object\n",
            " 12  Pengarang                  6787 non-null   object\n",
            " 13  Statement of Responbility  6865 non-null   object\n",
            " 14  Subjek                     6242 non-null   object\n",
            " 15  Kode Eksemplar             6868 non-null   object\n",
            " 16  Book_ID                    6873 non-null   object\n",
            " 17  Judul_Normalized           6873 non-null   object\n",
            "dtypes: Int64(1), object(17)\n",
            "memory usage: 973.4+ KB\n"
          ]
        }
      ]
    },
    {
      "cell_type": "code",
      "source": [
        "# Memindahkan posisi index 'Book_ID' dan 'Judul_Normalized'\n",
        "col = rekap_df.pop(\"Book_ID\")\n",
        "rekap_df.insert(0, \"Book_ID\", col)\n",
        "\n",
        "col = rekap_df.pop(\"Judul_Normalized\")\n",
        "rekap_df.insert(1, \"Judul_Normalized\", col)"
      ],
      "metadata": {
        "id": "ZbqrxhDSb4Ly"
      },
      "execution_count": null,
      "outputs": []
    },
    {
      "cell_type": "code",
      "source": [
        "# Mengganti nama kolom \"Title_Normalized\"\n",
        "rekap_df.rename(columns={'Judul_Normalized': 'Judul'}, inplace=True)"
      ],
      "metadata": {
        "id": "A1Q-KSwJfZG_"
      },
      "execution_count": null,
      "outputs": []
    },
    {
      "cell_type": "code",
      "source": [
        "rekap_df.info()"
      ],
      "metadata": {
        "colab": {
          "base_uri": "https://localhost:8080/"
        },
        "id": "XFysa7ibcK8-",
        "outputId": "6dc7bfdb-2090-4aad-d516-6e6f23983a3b"
      },
      "execution_count": null,
      "outputs": [
        {
          "output_type": "stream",
          "name": "stdout",
          "text": [
            "<class 'pandas.core.frame.DataFrame'>\n",
            "RangeIndex: 6873 entries, 0 to 6872\n",
            "Data columns (total 18 columns):\n",
            " #   Column                     Non-Null Count  Dtype \n",
            "---  ------                     --------------  ----- \n",
            " 0   Book_ID                    6873 non-null   object\n",
            " 1   Judul                      6873 non-null   object\n",
            " 2   GMD                        6873 non-null   object\n",
            " 3   Edisi                      6657 non-null   object\n",
            " 4   ISBN                       6496 non-null   object\n",
            " 5   Penerbit                   6856 non-null   object\n",
            " 6   Tahun Terbit               6814 non-null   Int64 \n",
            " 7   Collation                  6758 non-null   object\n",
            " 8   Nomor Panggil              6873 non-null   object\n",
            " 9   Bahasa                     6873 non-null   object\n",
            " 10  Kota Terbit                6786 non-null   object\n",
            " 11  Kelas                      6873 non-null   object\n",
            " 12  Abstrak/Notes              6295 non-null   object\n",
            " 13  Cover                      6673 non-null   object\n",
            " 14  Pengarang                  6787 non-null   object\n",
            " 15  Statement of Responbility  6865 non-null   object\n",
            " 16  Subjek                     6242 non-null   object\n",
            " 17  Kode Eksemplar             6868 non-null   object\n",
            "dtypes: Int64(1), object(17)\n",
            "memory usage: 973.4+ KB\n"
          ]
        }
      ]
    },
    {
      "cell_type": "code",
      "source": [
        "rekap_df[\"Judul\"].duplicated().sum()"
      ],
      "metadata": {
        "colab": {
          "base_uri": "https://localhost:8080/"
        },
        "id": "-ah1cPpT6O6E",
        "outputId": "d18a1192-0bd2-4585-de5f-989bfef46ac0"
      },
      "execution_count": null,
      "outputs": [
        {
          "output_type": "execute_result",
          "data": {
            "text/plain": [
              "np.int64(352)"
            ]
          },
          "metadata": {},
          "execution_count": 131
        }
      ]
    },
    {
      "cell_type": "code",
      "source": [
        "rekap_df[\"Book_ID\"].duplicated().sum()"
      ],
      "metadata": {
        "colab": {
          "base_uri": "https://localhost:8080/"
        },
        "id": "l9q693ks6ueS",
        "outputId": "28e3c08f-011d-4ce2-8741-4090ae5449eb"
      },
      "execution_count": null,
      "outputs": [
        {
          "output_type": "execute_result",
          "data": {
            "text/plain": [
              "np.int64(0)"
            ]
          },
          "metadata": {},
          "execution_count": 132
        }
      ]
    },
    {
      "cell_type": "code",
      "source": [
        "# Menghapus kolom Edisi\n",
        "rekap_df = rekap_df.drop(columns=['Edisi'])"
      ],
      "metadata": {
        "id": "oS2oBuy49KGM"
      },
      "execution_count": null,
      "outputs": []
    },
    {
      "cell_type": "code",
      "source": [
        "# Menghapus duplikat pada kolom judul\n",
        "rekap_df = rekap_df.drop_duplicates(subset=['Judul'])\n"
      ],
      "metadata": {
        "id": "UBK1IQ-Q9Tp1"
      },
      "execution_count": null,
      "outputs": []
    },
    {
      "cell_type": "code",
      "source": [
        "rekap_df.duplicated().sum()"
      ],
      "metadata": {
        "colab": {
          "base_uri": "https://localhost:8080/"
        },
        "id": "C_8fu0j6-Y8d",
        "outputId": "a85d9995-4a23-404a-cc5d-673d7d97375b"
      },
      "execution_count": null,
      "outputs": [
        {
          "output_type": "execute_result",
          "data": {
            "text/plain": [
              "np.int64(0)"
            ]
          },
          "metadata": {},
          "execution_count": 135
        }
      ]
    },
    {
      "cell_type": "code",
      "source": [
        "peminjaman_df = pd.read_excel('/content/Data Peminjaman Buku.xlsx')"
      ],
      "metadata": {
        "id": "_9N4a7b3cQBp"
      },
      "execution_count": null,
      "outputs": []
    },
    {
      "cell_type": "code",
      "source": [
        "peminjaman_df.head(n=5)"
      ],
      "metadata": {
        "colab": {
          "base_uri": "https://localhost:8080/",
          "height": 310
        },
        "id": "HG466_CTcYYV",
        "outputId": "e6e23d86-1dfa-415a-972a-71087b4065d9"
      },
      "execution_count": null,
      "outputs": [
        {
          "output_type": "execute_result",
          "data": {
            "text/plain": [
              "  Member Type Member Name (Singkatan) Item Code  \\\n",
              "0   MAHASISWA                    Dind     A2308   \n",
              "1   MAHASISWA                    Dind     A8840   \n",
              "2   MAHASISWA                    Soni     A6725   \n",
              "3   MAHASISWA                    Soni     A1047   \n",
              "4   MAHASISWA                    Malo     A7616   \n",
              "\n",
              "                                       Title  Loan Date   Due Date  \\\n",
              "0                 Belajar bisnis di internet 2024-01-02 2024-01-11   \n",
              "1                       Kalung setengah hati 2024-01-02 2024-01-11   \n",
              "2                            Treasure island 2024-01-02 2024-01-11   \n",
              "3                               Tentang kamu 2024-01-02 2024-01-11   \n",
              "4  Daun yang jatuh tak pernah membenci angin 2024-01-02 2024-01-11   \n",
              "\n",
              "   Loan Status      Note  Loan Duration  \n",
              "0            1  returned              9  \n",
              "1            1  returned              9  \n",
              "2            1  returned              9  \n",
              "3            1  returned              9  \n",
              "4            1  returned              9  "
            ],
            "text/html": [
              "\n",
              "  <div id=\"df-21c168fe-ad4a-45e8-af7d-ecc570eb9704\" class=\"colab-df-container\">\n",
              "    <div>\n",
              "<style scoped>\n",
              "    .dataframe tbody tr th:only-of-type {\n",
              "        vertical-align: middle;\n",
              "    }\n",
              "\n",
              "    .dataframe tbody tr th {\n",
              "        vertical-align: top;\n",
              "    }\n",
              "\n",
              "    .dataframe thead th {\n",
              "        text-align: right;\n",
              "    }\n",
              "</style>\n",
              "<table border=\"1\" class=\"dataframe\">\n",
              "  <thead>\n",
              "    <tr style=\"text-align: right;\">\n",
              "      <th></th>\n",
              "      <th>Member Type</th>\n",
              "      <th>Member Name (Singkatan)</th>\n",
              "      <th>Item Code</th>\n",
              "      <th>Title</th>\n",
              "      <th>Loan Date</th>\n",
              "      <th>Due Date</th>\n",
              "      <th>Loan Status</th>\n",
              "      <th>Note</th>\n",
              "      <th>Loan Duration</th>\n",
              "    </tr>\n",
              "  </thead>\n",
              "  <tbody>\n",
              "    <tr>\n",
              "      <th>0</th>\n",
              "      <td>MAHASISWA</td>\n",
              "      <td>Dind</td>\n",
              "      <td>A2308</td>\n",
              "      <td>Belajar bisnis di internet</td>\n",
              "      <td>2024-01-02</td>\n",
              "      <td>2024-01-11</td>\n",
              "      <td>1</td>\n",
              "      <td>returned</td>\n",
              "      <td>9</td>\n",
              "    </tr>\n",
              "    <tr>\n",
              "      <th>1</th>\n",
              "      <td>MAHASISWA</td>\n",
              "      <td>Dind</td>\n",
              "      <td>A8840</td>\n",
              "      <td>Kalung setengah hati</td>\n",
              "      <td>2024-01-02</td>\n",
              "      <td>2024-01-11</td>\n",
              "      <td>1</td>\n",
              "      <td>returned</td>\n",
              "      <td>9</td>\n",
              "    </tr>\n",
              "    <tr>\n",
              "      <th>2</th>\n",
              "      <td>MAHASISWA</td>\n",
              "      <td>Soni</td>\n",
              "      <td>A6725</td>\n",
              "      <td>Treasure island</td>\n",
              "      <td>2024-01-02</td>\n",
              "      <td>2024-01-11</td>\n",
              "      <td>1</td>\n",
              "      <td>returned</td>\n",
              "      <td>9</td>\n",
              "    </tr>\n",
              "    <tr>\n",
              "      <th>3</th>\n",
              "      <td>MAHASISWA</td>\n",
              "      <td>Soni</td>\n",
              "      <td>A1047</td>\n",
              "      <td>Tentang kamu</td>\n",
              "      <td>2024-01-02</td>\n",
              "      <td>2024-01-11</td>\n",
              "      <td>1</td>\n",
              "      <td>returned</td>\n",
              "      <td>9</td>\n",
              "    </tr>\n",
              "    <tr>\n",
              "      <th>4</th>\n",
              "      <td>MAHASISWA</td>\n",
              "      <td>Malo</td>\n",
              "      <td>A7616</td>\n",
              "      <td>Daun yang jatuh tak pernah membenci angin</td>\n",
              "      <td>2024-01-02</td>\n",
              "      <td>2024-01-11</td>\n",
              "      <td>1</td>\n",
              "      <td>returned</td>\n",
              "      <td>9</td>\n",
              "    </tr>\n",
              "  </tbody>\n",
              "</table>\n",
              "</div>\n",
              "    <div class=\"colab-df-buttons\">\n",
              "\n",
              "  <div class=\"colab-df-container\">\n",
              "    <button class=\"colab-df-convert\" onclick=\"convertToInteractive('df-21c168fe-ad4a-45e8-af7d-ecc570eb9704')\"\n",
              "            title=\"Convert this dataframe to an interactive table.\"\n",
              "            style=\"display:none;\">\n",
              "\n",
              "  <svg xmlns=\"http://www.w3.org/2000/svg\" height=\"24px\" viewBox=\"0 -960 960 960\">\n",
              "    <path d=\"M120-120v-720h720v720H120Zm60-500h600v-160H180v160Zm220 220h160v-160H400v160Zm0 220h160v-160H400v160ZM180-400h160v-160H180v160Zm440 0h160v-160H620v160ZM180-180h160v-160H180v160Zm440 0h160v-160H620v160Z\"/>\n",
              "  </svg>\n",
              "    </button>\n",
              "\n",
              "  <style>\n",
              "    .colab-df-container {\n",
              "      display:flex;\n",
              "      gap: 12px;\n",
              "    }\n",
              "\n",
              "    .colab-df-convert {\n",
              "      background-color: #E8F0FE;\n",
              "      border: none;\n",
              "      border-radius: 50%;\n",
              "      cursor: pointer;\n",
              "      display: none;\n",
              "      fill: #1967D2;\n",
              "      height: 32px;\n",
              "      padding: 0 0 0 0;\n",
              "      width: 32px;\n",
              "    }\n",
              "\n",
              "    .colab-df-convert:hover {\n",
              "      background-color: #E2EBFA;\n",
              "      box-shadow: 0px 1px 2px rgba(60, 64, 67, 0.3), 0px 1px 3px 1px rgba(60, 64, 67, 0.15);\n",
              "      fill: #174EA6;\n",
              "    }\n",
              "\n",
              "    .colab-df-buttons div {\n",
              "      margin-bottom: 4px;\n",
              "    }\n",
              "\n",
              "    [theme=dark] .colab-df-convert {\n",
              "      background-color: #3B4455;\n",
              "      fill: #D2E3FC;\n",
              "    }\n",
              "\n",
              "    [theme=dark] .colab-df-convert:hover {\n",
              "      background-color: #434B5C;\n",
              "      box-shadow: 0px 1px 3px 1px rgba(0, 0, 0, 0.15);\n",
              "      filter: drop-shadow(0px 1px 2px rgba(0, 0, 0, 0.3));\n",
              "      fill: #FFFFFF;\n",
              "    }\n",
              "  </style>\n",
              "\n",
              "    <script>\n",
              "      const buttonEl =\n",
              "        document.querySelector('#df-21c168fe-ad4a-45e8-af7d-ecc570eb9704 button.colab-df-convert');\n",
              "      buttonEl.style.display =\n",
              "        google.colab.kernel.accessAllowed ? 'block' : 'none';\n",
              "\n",
              "      async function convertToInteractive(key) {\n",
              "        const element = document.querySelector('#df-21c168fe-ad4a-45e8-af7d-ecc570eb9704');\n",
              "        const dataTable =\n",
              "          await google.colab.kernel.invokeFunction('convertToInteractive',\n",
              "                                                    [key], {});\n",
              "        if (!dataTable) return;\n",
              "\n",
              "        const docLinkHtml = 'Like what you see? Visit the ' +\n",
              "          '<a target=\"_blank\" href=https://colab.research.google.com/notebooks/data_table.ipynb>data table notebook</a>'\n",
              "          + ' to learn more about interactive tables.';\n",
              "        element.innerHTML = '';\n",
              "        dataTable['output_type'] = 'display_data';\n",
              "        await google.colab.output.renderOutput(dataTable, element);\n",
              "        const docLink = document.createElement('div');\n",
              "        docLink.innerHTML = docLinkHtml;\n",
              "        element.appendChild(docLink);\n",
              "      }\n",
              "    </script>\n",
              "  </div>\n",
              "\n",
              "\n",
              "    <div id=\"df-0099df57-055c-4c80-a779-b7b85f807753\">\n",
              "      <button class=\"colab-df-quickchart\" onclick=\"quickchart('df-0099df57-055c-4c80-a779-b7b85f807753')\"\n",
              "                title=\"Suggest charts\"\n",
              "                style=\"display:none;\">\n",
              "\n",
              "<svg xmlns=\"http://www.w3.org/2000/svg\" height=\"24px\"viewBox=\"0 0 24 24\"\n",
              "     width=\"24px\">\n",
              "    <g>\n",
              "        <path d=\"M19 3H5c-1.1 0-2 .9-2 2v14c0 1.1.9 2 2 2h14c1.1 0 2-.9 2-2V5c0-1.1-.9-2-2-2zM9 17H7v-7h2v7zm4 0h-2V7h2v10zm4 0h-2v-4h2v4z\"/>\n",
              "    </g>\n",
              "</svg>\n",
              "      </button>\n",
              "\n",
              "<style>\n",
              "  .colab-df-quickchart {\n",
              "      --bg-color: #E8F0FE;\n",
              "      --fill-color: #1967D2;\n",
              "      --hover-bg-color: #E2EBFA;\n",
              "      --hover-fill-color: #174EA6;\n",
              "      --disabled-fill-color: #AAA;\n",
              "      --disabled-bg-color: #DDD;\n",
              "  }\n",
              "\n",
              "  [theme=dark] .colab-df-quickchart {\n",
              "      --bg-color: #3B4455;\n",
              "      --fill-color: #D2E3FC;\n",
              "      --hover-bg-color: #434B5C;\n",
              "      --hover-fill-color: #FFFFFF;\n",
              "      --disabled-bg-color: #3B4455;\n",
              "      --disabled-fill-color: #666;\n",
              "  }\n",
              "\n",
              "  .colab-df-quickchart {\n",
              "    background-color: var(--bg-color);\n",
              "    border: none;\n",
              "    border-radius: 50%;\n",
              "    cursor: pointer;\n",
              "    display: none;\n",
              "    fill: var(--fill-color);\n",
              "    height: 32px;\n",
              "    padding: 0;\n",
              "    width: 32px;\n",
              "  }\n",
              "\n",
              "  .colab-df-quickchart:hover {\n",
              "    background-color: var(--hover-bg-color);\n",
              "    box-shadow: 0 1px 2px rgba(60, 64, 67, 0.3), 0 1px 3px 1px rgba(60, 64, 67, 0.15);\n",
              "    fill: var(--button-hover-fill-color);\n",
              "  }\n",
              "\n",
              "  .colab-df-quickchart-complete:disabled,\n",
              "  .colab-df-quickchart-complete:disabled:hover {\n",
              "    background-color: var(--disabled-bg-color);\n",
              "    fill: var(--disabled-fill-color);\n",
              "    box-shadow: none;\n",
              "  }\n",
              "\n",
              "  .colab-df-spinner {\n",
              "    border: 2px solid var(--fill-color);\n",
              "    border-color: transparent;\n",
              "    border-bottom-color: var(--fill-color);\n",
              "    animation:\n",
              "      spin 1s steps(1) infinite;\n",
              "  }\n",
              "\n",
              "  @keyframes spin {\n",
              "    0% {\n",
              "      border-color: transparent;\n",
              "      border-bottom-color: var(--fill-color);\n",
              "      border-left-color: var(--fill-color);\n",
              "    }\n",
              "    20% {\n",
              "      border-color: transparent;\n",
              "      border-left-color: var(--fill-color);\n",
              "      border-top-color: var(--fill-color);\n",
              "    }\n",
              "    30% {\n",
              "      border-color: transparent;\n",
              "      border-left-color: var(--fill-color);\n",
              "      border-top-color: var(--fill-color);\n",
              "      border-right-color: var(--fill-color);\n",
              "    }\n",
              "    40% {\n",
              "      border-color: transparent;\n",
              "      border-right-color: var(--fill-color);\n",
              "      border-top-color: var(--fill-color);\n",
              "    }\n",
              "    60% {\n",
              "      border-color: transparent;\n",
              "      border-right-color: var(--fill-color);\n",
              "    }\n",
              "    80% {\n",
              "      border-color: transparent;\n",
              "      border-right-color: var(--fill-color);\n",
              "      border-bottom-color: var(--fill-color);\n",
              "    }\n",
              "    90% {\n",
              "      border-color: transparent;\n",
              "      border-bottom-color: var(--fill-color);\n",
              "    }\n",
              "  }\n",
              "</style>\n",
              "\n",
              "      <script>\n",
              "        async function quickchart(key) {\n",
              "          const quickchartButtonEl =\n",
              "            document.querySelector('#' + key + ' button');\n",
              "          quickchartButtonEl.disabled = true;  // To prevent multiple clicks.\n",
              "          quickchartButtonEl.classList.add('colab-df-spinner');\n",
              "          try {\n",
              "            const charts = await google.colab.kernel.invokeFunction(\n",
              "                'suggestCharts', [key], {});\n",
              "          } catch (error) {\n",
              "            console.error('Error during call to suggestCharts:', error);\n",
              "          }\n",
              "          quickchartButtonEl.classList.remove('colab-df-spinner');\n",
              "          quickchartButtonEl.classList.add('colab-df-quickchart-complete');\n",
              "        }\n",
              "        (() => {\n",
              "          let quickchartButtonEl =\n",
              "            document.querySelector('#df-0099df57-055c-4c80-a779-b7b85f807753 button');\n",
              "          quickchartButtonEl.style.display =\n",
              "            google.colab.kernel.accessAllowed ? 'block' : 'none';\n",
              "        })();\n",
              "      </script>\n",
              "    </div>\n",
              "\n",
              "    </div>\n",
              "  </div>\n"
            ],
            "application/vnd.google.colaboratory.intrinsic+json": {
              "type": "dataframe",
              "variable_name": "peminjaman_df",
              "summary": "{\n  \"name\": \"peminjaman_df\",\n  \"rows\": 1990,\n  \"fields\": [\n    {\n      \"column\": \"Member Type\",\n      \"properties\": {\n        \"dtype\": \"category\",\n        \"num_unique_values\": 3,\n        \"samples\": [\n          \"MAHASISWA\",\n          \"KARYAWAN\",\n          \"DOSEN\"\n        ],\n        \"semantic_type\": \"\",\n        \"description\": \"\"\n      }\n    },\n    {\n      \"column\": \"Member Name (Singkatan)\",\n      \"properties\": {\n        \"dtype\": \"category\",\n        \"num_unique_values\": 548,\n        \"samples\": [\n          \"Sult\",\n          \"Yesy\",\n          \"Ermi\"\n        ],\n        \"semantic_type\": \"\",\n        \"description\": \"\"\n      }\n    },\n    {\n      \"column\": \"Item Code\",\n      \"properties\": {\n        \"dtype\": \"string\",\n        \"num_unique_values\": 1406,\n        \"samples\": [\n          \"A011447\",\n          \"A6919\",\n          \"A0168\"\n        ],\n        \"semantic_type\": \"\",\n        \"description\": \"\"\n      }\n    },\n    {\n      \"column\": \"Title\",\n      \"properties\": {\n        \"dtype\": \"string\",\n        \"num_unique_values\": 1027,\n        \"samples\": [\n          \"Home Sweet Loan\",\n          \"Personal Branding Code : Membangun Reputasi Positif Melalui Metode Circle-P\",\n          \"Psikologi Kepribadian : Menyelami Misteri Kepribadian Manusia\"\n        ],\n        \"semantic_type\": \"\",\n        \"description\": \"\"\n      }\n    },\n    {\n      \"column\": \"Loan Date\",\n      \"properties\": {\n        \"dtype\": \"date\",\n        \"min\": \"2024-01-02 00:00:00\",\n        \"max\": \"2024-12-17 00:00:00\",\n        \"num_unique_values\": 212,\n        \"samples\": [\n          \"2024-02-28 00:00:00\",\n          \"2024-10-23 00:00:00\",\n          \"2024-09-05 00:00:00\"\n        ],\n        \"semantic_type\": \"\",\n        \"description\": \"\"\n      }\n    },\n    {\n      \"column\": \"Due Date\",\n      \"properties\": {\n        \"dtype\": \"date\",\n        \"min\": \"2024-01-11 00:00:00\",\n        \"max\": \"2025-06-16 00:00:00\",\n        \"num_unique_values\": 207,\n        \"samples\": [\n          \"2025-04-07 00:00:00\",\n          \"2024-01-25 00:00:00\",\n          \"2024-10-28 00:00:00\"\n        ],\n        \"semantic_type\": \"\",\n        \"description\": \"\"\n      }\n    },\n    {\n      \"column\": \"Loan Status\",\n      \"properties\": {\n        \"dtype\": \"number\",\n        \"std\": 0,\n        \"min\": 0,\n        \"max\": 1,\n        \"num_unique_values\": 2,\n        \"samples\": [\n          0,\n          1\n        ],\n        \"semantic_type\": \"\",\n        \"description\": \"\"\n      }\n    },\n    {\n      \"column\": \"Note\",\n      \"properties\": {\n        \"dtype\": \"category\",\n        \"num_unique_values\": 2,\n        \"samples\": [\n          \"on_loan\",\n          \"returned\"\n        ],\n        \"semantic_type\": \"\",\n        \"description\": \"\"\n      }\n    },\n    {\n      \"column\": \"Loan Duration\",\n      \"properties\": {\n        \"dtype\": \"number\",\n        \"std\": 55,\n        \"min\": 1,\n        \"max\": 182,\n        \"num_unique_values\": 19,\n        \"samples\": [\n          9,\n          181\n        ],\n        \"semantic_type\": \"\",\n        \"description\": \"\"\n      }\n    }\n  ]\n}"
            }
          },
          "metadata": {},
          "execution_count": 137
        }
      ]
    },
    {
      "cell_type": "code",
      "source": [
        "# Memeriksa nilai null pada  data frame peminjaman_df\n",
        "\n",
        "peminjaman_df.isnull().sum()"
      ],
      "metadata": {
        "colab": {
          "base_uri": "https://localhost:8080/",
          "height": 366
        },
        "id": "B4uadnSbcanZ",
        "outputId": "f9c94df7-7f38-4a96-e66f-a3178bdce04b"
      },
      "execution_count": null,
      "outputs": [
        {
          "output_type": "execute_result",
          "data": {
            "text/plain": [
              "Member Type                0\n",
              "Member Name (Singkatan)    0\n",
              "Item Code                  0\n",
              "Title                      0\n",
              "Loan Date                  0\n",
              "Due Date                   0\n",
              "Loan Status                0\n",
              "Note                       0\n",
              "Loan Duration              0\n",
              "dtype: int64"
            ],
            "text/html": [
              "<div>\n",
              "<style scoped>\n",
              "    .dataframe tbody tr th:only-of-type {\n",
              "        vertical-align: middle;\n",
              "    }\n",
              "\n",
              "    .dataframe tbody tr th {\n",
              "        vertical-align: top;\n",
              "    }\n",
              "\n",
              "    .dataframe thead th {\n",
              "        text-align: right;\n",
              "    }\n",
              "</style>\n",
              "<table border=\"1\" class=\"dataframe\">\n",
              "  <thead>\n",
              "    <tr style=\"text-align: right;\">\n",
              "      <th></th>\n",
              "      <th>0</th>\n",
              "    </tr>\n",
              "  </thead>\n",
              "  <tbody>\n",
              "    <tr>\n",
              "      <th>Member Type</th>\n",
              "      <td>0</td>\n",
              "    </tr>\n",
              "    <tr>\n",
              "      <th>Member Name (Singkatan)</th>\n",
              "      <td>0</td>\n",
              "    </tr>\n",
              "    <tr>\n",
              "      <th>Item Code</th>\n",
              "      <td>0</td>\n",
              "    </tr>\n",
              "    <tr>\n",
              "      <th>Title</th>\n",
              "      <td>0</td>\n",
              "    </tr>\n",
              "    <tr>\n",
              "      <th>Loan Date</th>\n",
              "      <td>0</td>\n",
              "    </tr>\n",
              "    <tr>\n",
              "      <th>Due Date</th>\n",
              "      <td>0</td>\n",
              "    </tr>\n",
              "    <tr>\n",
              "      <th>Loan Status</th>\n",
              "      <td>0</td>\n",
              "    </tr>\n",
              "    <tr>\n",
              "      <th>Note</th>\n",
              "      <td>0</td>\n",
              "    </tr>\n",
              "    <tr>\n",
              "      <th>Loan Duration</th>\n",
              "      <td>0</td>\n",
              "    </tr>\n",
              "  </tbody>\n",
              "</table>\n",
              "</div><br><label><b>dtype:</b> int64</label>"
            ]
          },
          "metadata": {},
          "execution_count": 138
        }
      ]
    },
    {
      "cell_type": "code",
      "source": [
        "peminjaman_df.describe()"
      ],
      "metadata": {
        "colab": {
          "base_uri": "https://localhost:8080/",
          "height": 300
        },
        "id": "fz9kxlKpcmBg",
        "outputId": "ac631b66-70e5-484e-b34d-fa996d936021"
      },
      "execution_count": null,
      "outputs": [
        {
          "output_type": "execute_result",
          "data": {
            "text/plain": [
              "                           Loan Date                       Due Date  \\\n",
              "count                           1990                           1990   \n",
              "mean   2024-06-17 09:03:26.231155712  2024-07-18 02:16:02.412060416   \n",
              "min              2024-01-02 00:00:00            2024-01-11 00:00:00   \n",
              "25%              2024-03-13 00:00:00            2024-04-01 00:00:00   \n",
              "50%              2024-05-31 00:00:00            2024-07-03 00:00:00   \n",
              "75%              2024-09-26 00:00:00            2024-10-21 00:00:00   \n",
              "max              2024-12-17 00:00:00            2025-06-16 00:00:00   \n",
              "std                              NaN                            NaN   \n",
              "\n",
              "       Loan Status  Loan Duration  \n",
              "count  1990.000000    1990.000000  \n",
              "mean      0.874874      30.717085  \n",
              "min       0.000000       1.000000  \n",
              "25%       1.000000       9.000000  \n",
              "50%       1.000000       9.000000  \n",
              "75%       1.000000      11.000000  \n",
              "max       1.000000     182.000000  \n",
              "std       0.330944      55.526330  "
            ],
            "text/html": [
              "\n",
              "  <div id=\"df-43e80712-95c2-4a0c-8878-ea7d6127665c\" class=\"colab-df-container\">\n",
              "    <div>\n",
              "<style scoped>\n",
              "    .dataframe tbody tr th:only-of-type {\n",
              "        vertical-align: middle;\n",
              "    }\n",
              "\n",
              "    .dataframe tbody tr th {\n",
              "        vertical-align: top;\n",
              "    }\n",
              "\n",
              "    .dataframe thead th {\n",
              "        text-align: right;\n",
              "    }\n",
              "</style>\n",
              "<table border=\"1\" class=\"dataframe\">\n",
              "  <thead>\n",
              "    <tr style=\"text-align: right;\">\n",
              "      <th></th>\n",
              "      <th>Loan Date</th>\n",
              "      <th>Due Date</th>\n",
              "      <th>Loan Status</th>\n",
              "      <th>Loan Duration</th>\n",
              "    </tr>\n",
              "  </thead>\n",
              "  <tbody>\n",
              "    <tr>\n",
              "      <th>count</th>\n",
              "      <td>1990</td>\n",
              "      <td>1990</td>\n",
              "      <td>1990.000000</td>\n",
              "      <td>1990.000000</td>\n",
              "    </tr>\n",
              "    <tr>\n",
              "      <th>mean</th>\n",
              "      <td>2024-06-17 09:03:26.231155712</td>\n",
              "      <td>2024-07-18 02:16:02.412060416</td>\n",
              "      <td>0.874874</td>\n",
              "      <td>30.717085</td>\n",
              "    </tr>\n",
              "    <tr>\n",
              "      <th>min</th>\n",
              "      <td>2024-01-02 00:00:00</td>\n",
              "      <td>2024-01-11 00:00:00</td>\n",
              "      <td>0.000000</td>\n",
              "      <td>1.000000</td>\n",
              "    </tr>\n",
              "    <tr>\n",
              "      <th>25%</th>\n",
              "      <td>2024-03-13 00:00:00</td>\n",
              "      <td>2024-04-01 00:00:00</td>\n",
              "      <td>1.000000</td>\n",
              "      <td>9.000000</td>\n",
              "    </tr>\n",
              "    <tr>\n",
              "      <th>50%</th>\n",
              "      <td>2024-05-31 00:00:00</td>\n",
              "      <td>2024-07-03 00:00:00</td>\n",
              "      <td>1.000000</td>\n",
              "      <td>9.000000</td>\n",
              "    </tr>\n",
              "    <tr>\n",
              "      <th>75%</th>\n",
              "      <td>2024-09-26 00:00:00</td>\n",
              "      <td>2024-10-21 00:00:00</td>\n",
              "      <td>1.000000</td>\n",
              "      <td>11.000000</td>\n",
              "    </tr>\n",
              "    <tr>\n",
              "      <th>max</th>\n",
              "      <td>2024-12-17 00:00:00</td>\n",
              "      <td>2025-06-16 00:00:00</td>\n",
              "      <td>1.000000</td>\n",
              "      <td>182.000000</td>\n",
              "    </tr>\n",
              "    <tr>\n",
              "      <th>std</th>\n",
              "      <td>NaN</td>\n",
              "      <td>NaN</td>\n",
              "      <td>0.330944</td>\n",
              "      <td>55.526330</td>\n",
              "    </tr>\n",
              "  </tbody>\n",
              "</table>\n",
              "</div>\n",
              "    <div class=\"colab-df-buttons\">\n",
              "\n",
              "  <div class=\"colab-df-container\">\n",
              "    <button class=\"colab-df-convert\" onclick=\"convertToInteractive('df-43e80712-95c2-4a0c-8878-ea7d6127665c')\"\n",
              "            title=\"Convert this dataframe to an interactive table.\"\n",
              "            style=\"display:none;\">\n",
              "\n",
              "  <svg xmlns=\"http://www.w3.org/2000/svg\" height=\"24px\" viewBox=\"0 -960 960 960\">\n",
              "    <path d=\"M120-120v-720h720v720H120Zm60-500h600v-160H180v160Zm220 220h160v-160H400v160Zm0 220h160v-160H400v160ZM180-400h160v-160H180v160Zm440 0h160v-160H620v160ZM180-180h160v-160H180v160Zm440 0h160v-160H620v160Z\"/>\n",
              "  </svg>\n",
              "    </button>\n",
              "\n",
              "  <style>\n",
              "    .colab-df-container {\n",
              "      display:flex;\n",
              "      gap: 12px;\n",
              "    }\n",
              "\n",
              "    .colab-df-convert {\n",
              "      background-color: #E8F0FE;\n",
              "      border: none;\n",
              "      border-radius: 50%;\n",
              "      cursor: pointer;\n",
              "      display: none;\n",
              "      fill: #1967D2;\n",
              "      height: 32px;\n",
              "      padding: 0 0 0 0;\n",
              "      width: 32px;\n",
              "    }\n",
              "\n",
              "    .colab-df-convert:hover {\n",
              "      background-color: #E2EBFA;\n",
              "      box-shadow: 0px 1px 2px rgba(60, 64, 67, 0.3), 0px 1px 3px 1px rgba(60, 64, 67, 0.15);\n",
              "      fill: #174EA6;\n",
              "    }\n",
              "\n",
              "    .colab-df-buttons div {\n",
              "      margin-bottom: 4px;\n",
              "    }\n",
              "\n",
              "    [theme=dark] .colab-df-convert {\n",
              "      background-color: #3B4455;\n",
              "      fill: #D2E3FC;\n",
              "    }\n",
              "\n",
              "    [theme=dark] .colab-df-convert:hover {\n",
              "      background-color: #434B5C;\n",
              "      box-shadow: 0px 1px 3px 1px rgba(0, 0, 0, 0.15);\n",
              "      filter: drop-shadow(0px 1px 2px rgba(0, 0, 0, 0.3));\n",
              "      fill: #FFFFFF;\n",
              "    }\n",
              "  </style>\n",
              "\n",
              "    <script>\n",
              "      const buttonEl =\n",
              "        document.querySelector('#df-43e80712-95c2-4a0c-8878-ea7d6127665c button.colab-df-convert');\n",
              "      buttonEl.style.display =\n",
              "        google.colab.kernel.accessAllowed ? 'block' : 'none';\n",
              "\n",
              "      async function convertToInteractive(key) {\n",
              "        const element = document.querySelector('#df-43e80712-95c2-4a0c-8878-ea7d6127665c');\n",
              "        const dataTable =\n",
              "          await google.colab.kernel.invokeFunction('convertToInteractive',\n",
              "                                                    [key], {});\n",
              "        if (!dataTable) return;\n",
              "\n",
              "        const docLinkHtml = 'Like what you see? Visit the ' +\n",
              "          '<a target=\"_blank\" href=https://colab.research.google.com/notebooks/data_table.ipynb>data table notebook</a>'\n",
              "          + ' to learn more about interactive tables.';\n",
              "        element.innerHTML = '';\n",
              "        dataTable['output_type'] = 'display_data';\n",
              "        await google.colab.output.renderOutput(dataTable, element);\n",
              "        const docLink = document.createElement('div');\n",
              "        docLink.innerHTML = docLinkHtml;\n",
              "        element.appendChild(docLink);\n",
              "      }\n",
              "    </script>\n",
              "  </div>\n",
              "\n",
              "\n",
              "    <div id=\"df-32e22d70-5da2-476e-ad1b-79be873aef04\">\n",
              "      <button class=\"colab-df-quickchart\" onclick=\"quickchart('df-32e22d70-5da2-476e-ad1b-79be873aef04')\"\n",
              "                title=\"Suggest charts\"\n",
              "                style=\"display:none;\">\n",
              "\n",
              "<svg xmlns=\"http://www.w3.org/2000/svg\" height=\"24px\"viewBox=\"0 0 24 24\"\n",
              "     width=\"24px\">\n",
              "    <g>\n",
              "        <path d=\"M19 3H5c-1.1 0-2 .9-2 2v14c0 1.1.9 2 2 2h14c1.1 0 2-.9 2-2V5c0-1.1-.9-2-2-2zM9 17H7v-7h2v7zm4 0h-2V7h2v10zm4 0h-2v-4h2v4z\"/>\n",
              "    </g>\n",
              "</svg>\n",
              "      </button>\n",
              "\n",
              "<style>\n",
              "  .colab-df-quickchart {\n",
              "      --bg-color: #E8F0FE;\n",
              "      --fill-color: #1967D2;\n",
              "      --hover-bg-color: #E2EBFA;\n",
              "      --hover-fill-color: #174EA6;\n",
              "      --disabled-fill-color: #AAA;\n",
              "      --disabled-bg-color: #DDD;\n",
              "  }\n",
              "\n",
              "  [theme=dark] .colab-df-quickchart {\n",
              "      --bg-color: #3B4455;\n",
              "      --fill-color: #D2E3FC;\n",
              "      --hover-bg-color: #434B5C;\n",
              "      --hover-fill-color: #FFFFFF;\n",
              "      --disabled-bg-color: #3B4455;\n",
              "      --disabled-fill-color: #666;\n",
              "  }\n",
              "\n",
              "  .colab-df-quickchart {\n",
              "    background-color: var(--bg-color);\n",
              "    border: none;\n",
              "    border-radius: 50%;\n",
              "    cursor: pointer;\n",
              "    display: none;\n",
              "    fill: var(--fill-color);\n",
              "    height: 32px;\n",
              "    padding: 0;\n",
              "    width: 32px;\n",
              "  }\n",
              "\n",
              "  .colab-df-quickchart:hover {\n",
              "    background-color: var(--hover-bg-color);\n",
              "    box-shadow: 0 1px 2px rgba(60, 64, 67, 0.3), 0 1px 3px 1px rgba(60, 64, 67, 0.15);\n",
              "    fill: var(--button-hover-fill-color);\n",
              "  }\n",
              "\n",
              "  .colab-df-quickchart-complete:disabled,\n",
              "  .colab-df-quickchart-complete:disabled:hover {\n",
              "    background-color: var(--disabled-bg-color);\n",
              "    fill: var(--disabled-fill-color);\n",
              "    box-shadow: none;\n",
              "  }\n",
              "\n",
              "  .colab-df-spinner {\n",
              "    border: 2px solid var(--fill-color);\n",
              "    border-color: transparent;\n",
              "    border-bottom-color: var(--fill-color);\n",
              "    animation:\n",
              "      spin 1s steps(1) infinite;\n",
              "  }\n",
              "\n",
              "  @keyframes spin {\n",
              "    0% {\n",
              "      border-color: transparent;\n",
              "      border-bottom-color: var(--fill-color);\n",
              "      border-left-color: var(--fill-color);\n",
              "    }\n",
              "    20% {\n",
              "      border-color: transparent;\n",
              "      border-left-color: var(--fill-color);\n",
              "      border-top-color: var(--fill-color);\n",
              "    }\n",
              "    30% {\n",
              "      border-color: transparent;\n",
              "      border-left-color: var(--fill-color);\n",
              "      border-top-color: var(--fill-color);\n",
              "      border-right-color: var(--fill-color);\n",
              "    }\n",
              "    40% {\n",
              "      border-color: transparent;\n",
              "      border-right-color: var(--fill-color);\n",
              "      border-top-color: var(--fill-color);\n",
              "    }\n",
              "    60% {\n",
              "      border-color: transparent;\n",
              "      border-right-color: var(--fill-color);\n",
              "    }\n",
              "    80% {\n",
              "      border-color: transparent;\n",
              "      border-right-color: var(--fill-color);\n",
              "      border-bottom-color: var(--fill-color);\n",
              "    }\n",
              "    90% {\n",
              "      border-color: transparent;\n",
              "      border-bottom-color: var(--fill-color);\n",
              "    }\n",
              "  }\n",
              "</style>\n",
              "\n",
              "      <script>\n",
              "        async function quickchart(key) {\n",
              "          const quickchartButtonEl =\n",
              "            document.querySelector('#' + key + ' button');\n",
              "          quickchartButtonEl.disabled = true;  // To prevent multiple clicks.\n",
              "          quickchartButtonEl.classList.add('colab-df-spinner');\n",
              "          try {\n",
              "            const charts = await google.colab.kernel.invokeFunction(\n",
              "                'suggestCharts', [key], {});\n",
              "          } catch (error) {\n",
              "            console.error('Error during call to suggestCharts:', error);\n",
              "          }\n",
              "          quickchartButtonEl.classList.remove('colab-df-spinner');\n",
              "          quickchartButtonEl.classList.add('colab-df-quickchart-complete');\n",
              "        }\n",
              "        (() => {\n",
              "          let quickchartButtonEl =\n",
              "            document.querySelector('#df-32e22d70-5da2-476e-ad1b-79be873aef04 button');\n",
              "          quickchartButtonEl.style.display =\n",
              "            google.colab.kernel.accessAllowed ? 'block' : 'none';\n",
              "        })();\n",
              "      </script>\n",
              "    </div>\n",
              "\n",
              "    </div>\n",
              "  </div>\n"
            ],
            "application/vnd.google.colaboratory.intrinsic+json": {
              "type": "dataframe",
              "summary": "{\n  \"name\": \"peminjaman_df\",\n  \"rows\": 8,\n  \"fields\": [\n    {\n      \"column\": \"Loan Date\",\n      \"properties\": {\n        \"dtype\": \"date\",\n        \"min\": \"1970-01-01 00:00:00.000001990\",\n        \"max\": \"2024-12-17 00:00:00\",\n        \"num_unique_values\": 7,\n        \"samples\": [\n          \"1990\",\n          \"2024-06-17 09:03:26.231155712\",\n          \"2024-09-26 00:00:00\"\n        ],\n        \"semantic_type\": \"\",\n        \"description\": \"\"\n      }\n    },\n    {\n      \"column\": \"Due Date\",\n      \"properties\": {\n        \"dtype\": \"date\",\n        \"min\": \"1970-01-01 00:00:00.000001990\",\n        \"max\": \"2025-06-16 00:00:00\",\n        \"num_unique_values\": 7,\n        \"samples\": [\n          \"1990\",\n          \"2024-07-18 02:16:02.412060416\",\n          \"2024-10-21 00:00:00\"\n        ],\n        \"semantic_type\": \"\",\n        \"description\": \"\"\n      }\n    },\n    {\n      \"column\": \"Loan Status\",\n      \"properties\": {\n        \"dtype\": \"number\",\n        \"std\": 703.3084156314915,\n        \"min\": 0.0,\n        \"max\": 1990.0,\n        \"num_unique_values\": 5,\n        \"samples\": [\n          0.8748743718592965,\n          0.33094447061547133,\n          0.0\n        ],\n        \"semantic_type\": \"\",\n        \"description\": \"\"\n      }\n    },\n    {\n      \"column\": \"Loan Duration\",\n      \"properties\": {\n        \"dtype\": \"number\",\n        \"std\": 691.0682694902036,\n        \"min\": 1.0,\n        \"max\": 1990.0,\n        \"num_unique_values\": 7,\n        \"samples\": [\n          1990.0,\n          30.71708542713568,\n          182.0\n        ],\n        \"semantic_type\": \"\",\n        \"description\": \"\"\n      }\n    }\n  ]\n}"
            }
          },
          "metadata": {},
          "execution_count": 139
        }
      ]
    },
    {
      "cell_type": "code",
      "source": [
        "peminjaman_df.info()"
      ],
      "metadata": {
        "colab": {
          "base_uri": "https://localhost:8080/"
        },
        "id": "idFkFcR5csS2",
        "outputId": "ac801410-8a71-439a-f6cf-dbefba1cb15f"
      },
      "execution_count": null,
      "outputs": [
        {
          "output_type": "stream",
          "name": "stdout",
          "text": [
            "<class 'pandas.core.frame.DataFrame'>\n",
            "RangeIndex: 1990 entries, 0 to 1989\n",
            "Data columns (total 9 columns):\n",
            " #   Column                   Non-Null Count  Dtype         \n",
            "---  ------                   --------------  -----         \n",
            " 0   Member Type              1990 non-null   object        \n",
            " 1   Member Name (Singkatan)  1990 non-null   object        \n",
            " 2   Item Code                1990 non-null   object        \n",
            " 3   Title                    1990 non-null   object        \n",
            " 4   Loan Date                1990 non-null   datetime64[ns]\n",
            " 5   Due Date                 1990 non-null   datetime64[ns]\n",
            " 6   Loan Status              1990 non-null   int64         \n",
            " 7   Note                     1990 non-null   object        \n",
            " 8   Loan Duration            1990 non-null   int64         \n",
            "dtypes: datetime64[ns](2), int64(2), object(5)\n",
            "memory usage: 140.1+ KB\n"
          ]
        }
      ]
    },
    {
      "cell_type": "code",
      "source": [
        "# Mengubah tipe data 'Title' menjadi string\n",
        "\n",
        "peminjaman_df[\"Title\"] = peminjaman_df[\"Title\"].astype(\"string\")"
      ],
      "metadata": {
        "id": "l2ywbw4aeU7b"
      },
      "execution_count": null,
      "outputs": []
    },
    {
      "cell_type": "code",
      "source": [
        "# Fungsi Normalisasi\n",
        "def normalize_text(text):\n",
        "    text = text.lower()\n",
        "    text = re.sub(r\"[\\(\\)\\[\\]\\{\\}\\-\\!\\:\\;]\", \"\", text)\n",
        "    text = re.sub(r\"\\bedisi\\s*\\d*\\b|\\bcetakan\\s*\\d*\\b|\\bmcgraw-hill\\b\", \"\", text)\n",
        "    text = re.sub(r\"\\s+\", \" \", text).strip()\n",
        "    return text\n",
        "\n",
        "# Terapkan fungsi normalisasi\n",
        "peminjaman_df[\"Title_Normalized\"] = peminjaman_df[\"Title\"].apply(normalize_text)"
      ],
      "metadata": {
        "id": "C6vCHma0c1sX"
      },
      "execution_count": null,
      "outputs": []
    },
    {
      "cell_type": "code",
      "source": [
        "peminjaman_df = peminjaman_df.drop(columns=['Title'])"
      ],
      "metadata": {
        "id": "j9I57qiznimu"
      },
      "execution_count": null,
      "outputs": []
    },
    {
      "cell_type": "code",
      "source": [
        "peminjaman_df = peminjaman_df.drop(columns=['Loan Duration'])"
      ],
      "metadata": {
        "id": "_liXF0VyiDbk"
      },
      "execution_count": null,
      "outputs": []
    },
    {
      "cell_type": "code",
      "source": [
        "peminjaman_df['Loan Duration'] = peminjaman_df['Due Date'] - peminjaman_df['Loan Date']"
      ],
      "metadata": {
        "id": "XVCgdY3mkl7k"
      },
      "execution_count": null,
      "outputs": []
    },
    {
      "cell_type": "code",
      "source": [
        "# Mengganti nama kolom \"Title_Normalized\"\n",
        "peminjaman_df.rename(columns={'Title_Normalized': 'Title'}, inplace=True)"
      ],
      "metadata": {
        "id": "33hzf9ZMnt4E"
      },
      "execution_count": null,
      "outputs": []
    },
    {
      "cell_type": "code",
      "source": [
        "col = peminjaman_df.pop(\"Title\")\n",
        "peminjaman_df.insert(1, \"Title\", col)"
      ],
      "metadata": {
        "id": "YGeBqMJVgBbh"
      },
      "execution_count": null,
      "outputs": []
    },
    {
      "cell_type": "code",
      "source": [
        "peminjaman_df.info()"
      ],
      "metadata": {
        "colab": {
          "base_uri": "https://localhost:8080/"
        },
        "id": "Bx51aGOIeijL",
        "outputId": "f14aa93f-d4b8-41b2-b6eb-8a6ce1455b2e"
      },
      "execution_count": null,
      "outputs": [
        {
          "output_type": "stream",
          "name": "stdout",
          "text": [
            "<class 'pandas.core.frame.DataFrame'>\n",
            "RangeIndex: 1990 entries, 0 to 1989\n",
            "Data columns (total 9 columns):\n",
            " #   Column                   Non-Null Count  Dtype          \n",
            "---  ------                   --------------  -----          \n",
            " 0   Member Type              1990 non-null   object         \n",
            " 1   Title                    1990 non-null   object         \n",
            " 2   Member Name (Singkatan)  1990 non-null   object         \n",
            " 3   Item Code                1990 non-null   object         \n",
            " 4   Loan Date                1990 non-null   datetime64[ns] \n",
            " 5   Due Date                 1990 non-null   datetime64[ns] \n",
            " 6   Loan Status              1990 non-null   int64          \n",
            " 7   Note                     1990 non-null   object         \n",
            " 8   Loan Duration            1990 non-null   timedelta64[ns]\n",
            "dtypes: datetime64[ns](2), int64(1), object(5), timedelta64[ns](1)\n",
            "memory usage: 140.1+ KB\n"
          ]
        }
      ]
    },
    {
      "cell_type": "code",
      "source": [
        "peminjaman = peminjaman_df.merge(\n",
        "    rekap_df,\n",
        "    left_on=\"Title\",\n",
        "    right_on=\"Judul\",\n",
        "    how=\"left\"\n",
        ").drop(columns=[\"Judul\"])"
      ],
      "metadata": {
        "id": "VeRONYqF_FHn"
      },
      "execution_count": null,
      "outputs": []
    },
    {
      "cell_type": "code",
      "source": [
        "peminjaman.info()"
      ],
      "metadata": {
        "colab": {
          "base_uri": "https://localhost:8080/"
        },
        "id": "RThBdfFn_YqR",
        "outputId": "830bee65-aac3-4ce0-96a2-024a6ee32259"
      },
      "execution_count": null,
      "outputs": [
        {
          "output_type": "stream",
          "name": "stdout",
          "text": [
            "<class 'pandas.core.frame.DataFrame'>\n",
            "RangeIndex: 1990 entries, 0 to 1989\n",
            "Data columns (total 25 columns):\n",
            " #   Column                     Non-Null Count  Dtype          \n",
            "---  ------                     --------------  -----          \n",
            " 0   Member Type                1990 non-null   object         \n",
            " 1   Title                      1990 non-null   object         \n",
            " 2   Member Name (Singkatan)    1990 non-null   object         \n",
            " 3   Item Code                  1990 non-null   object         \n",
            " 4   Loan Date                  1990 non-null   datetime64[ns] \n",
            " 5   Due Date                   1990 non-null   datetime64[ns] \n",
            " 6   Loan Status                1990 non-null   int64          \n",
            " 7   Note                       1990 non-null   object         \n",
            " 8   Loan Duration              1990 non-null   timedelta64[ns]\n",
            " 9   Book_ID                    1959 non-null   object         \n",
            " 10  GMD                        1959 non-null   object         \n",
            " 11  ISBN                       1930 non-null   object         \n",
            " 12  Penerbit                   1955 non-null   object         \n",
            " 13  Tahun Terbit               1957 non-null   Int64          \n",
            " 14  Collation                  1946 non-null   object         \n",
            " 15  Nomor Panggil              1959 non-null   object         \n",
            " 16  Bahasa                     1959 non-null   object         \n",
            " 17  Kota Terbit                1913 non-null   object         \n",
            " 18  Kelas                      1959 non-null   object         \n",
            " 19  Abstrak/Notes              1853 non-null   object         \n",
            " 20  Cover                      1945 non-null   object         \n",
            " 21  Pengarang                  1919 non-null   object         \n",
            " 22  Statement of Responbility  1958 non-null   object         \n",
            " 23  Subjek                     1791 non-null   object         \n",
            " 24  Kode Eksemplar             1958 non-null   object         \n",
            "dtypes: Int64(1), datetime64[ns](2), int64(1), object(20), timedelta64[ns](1)\n",
            "memory usage: 390.7+ KB\n"
          ]
        }
      ]
    },
    {
      "cell_type": "code",
      "source": [
        "unique_count = peminjaman[\"Book_ID\"].nunique()\n",
        "print(\"Jumlah nilai unik pada Book_ID:\", unique_count)"
      ],
      "metadata": {
        "colab": {
          "base_uri": "https://localhost:8080/"
        },
        "id": "ogAE7uqXD3d5",
        "outputId": "fb7abd88-7af7-42d6-e852-2dd479f95da0"
      },
      "execution_count": null,
      "outputs": [
        {
          "output_type": "stream",
          "name": "stdout",
          "text": [
            "Jumlah nilai unik pada Book_ID: 987\n"
          ]
        }
      ]
    },
    {
      "cell_type": "code",
      "source": [
        "peminjaman[\"Peminjaman_ID\"] = peminjaman.index.map(lambda x: f\"PMJ-{x+1:04d}\")"
      ],
      "metadata": {
        "id": "TadCa_SwFzfB"
      },
      "execution_count": null,
      "outputs": []
    },
    {
      "cell_type": "code",
      "source": [
        "col = peminjaman.pop(\"Peminjaman_ID\")\n",
        "peminjaman.insert(0, \"Peminjaman_ID\", col)"
      ],
      "metadata": {
        "id": "6uhvX53iGPvR"
      },
      "execution_count": null,
      "outputs": []
    },
    {
      "cell_type": "code",
      "source": [
        "peminjaman.info()"
      ],
      "metadata": {
        "colab": {
          "base_uri": "https://localhost:8080/"
        },
        "id": "9icstexIGSvS",
        "outputId": "a9e2d7d0-ffa6-4eb4-a5bf-7eae61eed772"
      },
      "execution_count": null,
      "outputs": [
        {
          "output_type": "stream",
          "name": "stdout",
          "text": [
            "<class 'pandas.core.frame.DataFrame'>\n",
            "RangeIndex: 1990 entries, 0 to 1989\n",
            "Data columns (total 26 columns):\n",
            " #   Column                     Non-Null Count  Dtype          \n",
            "---  ------                     --------------  -----          \n",
            " 0   Peminjaman_ID              1990 non-null   object         \n",
            " 1   Member Type                1990 non-null   object         \n",
            " 2   Title                      1990 non-null   object         \n",
            " 3   Member Name (Singkatan)    1990 non-null   object         \n",
            " 4   Item Code                  1990 non-null   object         \n",
            " 5   Loan Date                  1990 non-null   datetime64[ns] \n",
            " 6   Due Date                   1990 non-null   datetime64[ns] \n",
            " 7   Loan Status                1990 non-null   int64          \n",
            " 8   Note                       1990 non-null   object         \n",
            " 9   Loan Duration              1990 non-null   timedelta64[ns]\n",
            " 10  Book_ID                    1959 non-null   object         \n",
            " 11  GMD                        1959 non-null   object         \n",
            " 12  ISBN                       1930 non-null   object         \n",
            " 13  Penerbit                   1955 non-null   object         \n",
            " 14  Tahun Terbit               1957 non-null   Int64          \n",
            " 15  Collation                  1946 non-null   object         \n",
            " 16  Nomor Panggil              1959 non-null   object         \n",
            " 17  Bahasa                     1959 non-null   object         \n",
            " 18  Kota Terbit                1913 non-null   object         \n",
            " 19  Kelas                      1959 non-null   object         \n",
            " 20  Abstrak/Notes              1853 non-null   object         \n",
            " 21  Cover                      1945 non-null   object         \n",
            " 22  Pengarang                  1919 non-null   object         \n",
            " 23  Statement of Responbility  1958 non-null   object         \n",
            " 24  Subjek                     1791 non-null   object         \n",
            " 25  Kode Eksemplar             1958 non-null   object         \n",
            "dtypes: Int64(1), datetime64[ns](2), int64(1), object(21), timedelta64[ns](1)\n",
            "memory usage: 406.3+ KB\n"
          ]
        }
      ]
    },
    {
      "cell_type": "code",
      "source": [
        "peminjaman[\"Peminjaman_ID\"].duplicated().sum()"
      ],
      "metadata": {
        "colab": {
          "base_uri": "https://localhost:8080/"
        },
        "id": "cRwt4NLjGiYu",
        "outputId": "f0cfef20-a1b1-456d-e915-db951b5f7c5d"
      },
      "execution_count": null,
      "outputs": [
        {
          "output_type": "execute_result",
          "data": {
            "text/plain": [
              "np.int64(0)"
            ]
          },
          "metadata": {},
          "execution_count": 155
        }
      ]
    },
    {
      "cell_type": "code",
      "source": [
        "peminjaman['Durasi_Peminjaman'] = (pd.to_datetime('2024-12-18') - peminjaman['Loan Date']).dt.days\n",
        "\n",
        "# Tentukan Status Peminjaman berdasarkan kondisi keterlambatan\n",
        "def cek_keterlambatan(row):\n",
        "    if row['Note'] == 'on_loan':\n",
        "        if row['Member Type'] == 'MAHASISWA' and row['Durasi_Peminjaman'] > 9:\n",
        "            return 'Terlambat Dikembalikan'\n",
        "        elif row['Member Type'] == 'KARYAWAN' and row['Durasi_Peminjaman'] > 21:\n",
        "            return 'Terlambat Dikembalikan'\n",
        "        elif row['Member Type'] == 'DOSEN' and row['Durasi_Peminjaman'] > 181:\n",
        "            return 'Terlambat Dikembalikan'\n",
        "    return 'Tepat Waktu'\n",
        "\n",
        "peminjaman['Status_Peminjaman'] = peminjaman.apply(cek_keterlambatan, axis=1)\n",
        "\n",
        "# Menghitung Lama Keterlambatan\n",
        "def lama_keterlambatan(row):\n",
        "    if row['Status_Peminjaman'] == 'Terlambat Dikembalikan':\n",
        "        if row['Member Type'] == 'MAHASISWA' and row['Durasi_Peminjaman'] > 9:\n",
        "            return row['Durasi_Peminjaman'] - 9\n",
        "        elif row['Member Type'] == 'KARYAWAN' and row['Durasi_Peminjaman'] > 21:\n",
        "            return row['Durasi_Peminjaman'] - 21\n",
        "        elif row['Member Type'] == 'DOSEN' and row['Durasi_Peminjaman'] > 181:\n",
        "            return row['Durasi_Peminjaman'] - 181\n",
        "    return 0\n",
        "\n",
        "peminjaman['Lama_Keterlambatan'] = peminjaman.apply(lama_keterlambatan, axis=1)"
      ],
      "metadata": {
        "id": "ZTXp1Kth163V"
      },
      "execution_count": null,
      "outputs": []
    },
    {
      "cell_type": "code",
      "source": [
        "Tipe = peminjaman['Member Type'].unique()\n",
        "Tipe"
      ],
      "metadata": {
        "colab": {
          "base_uri": "https://localhost:8080/"
        },
        "id": "kc1P0aTh4qPO",
        "outputId": "48c417d0-8239-44d0-84c0-052160354173"
      },
      "execution_count": null,
      "outputs": [
        {
          "output_type": "execute_result",
          "data": {
            "text/plain": [
              "array(['MAHASISWA', 'KARYAWAN', 'DOSEN'], dtype=object)"
            ]
          },
          "metadata": {},
          "execution_count": 157
        }
      ]
    },
    {
      "cell_type": "code",
      "source": [
        "Status_Peminjaman = peminjaman['Status_Peminjaman'].unique()\n",
        "Status_Peminjaman"
      ],
      "metadata": {
        "colab": {
          "base_uri": "https://localhost:8080/"
        },
        "id": "5eqjVyMV3G_o",
        "outputId": "44390db5-5dfe-4922-a214-d25b3830234a"
      },
      "execution_count": null,
      "outputs": [
        {
          "output_type": "execute_result",
          "data": {
            "text/plain": [
              "array(['Tepat Waktu', 'Terlambat Dikembalikan'], dtype=object)"
            ]
          },
          "metadata": {},
          "execution_count": 158
        }
      ]
    },
    {
      "cell_type": "code",
      "source": [
        "peminjaman.info()"
      ],
      "metadata": {
        "colab": {
          "base_uri": "https://localhost:8080/"
        },
        "id": "_aCKPZHVAcph",
        "outputId": "d2477826-e9bb-486e-b27d-2da372dd77cd"
      },
      "execution_count": null,
      "outputs": [
        {
          "output_type": "stream",
          "name": "stdout",
          "text": [
            "<class 'pandas.core.frame.DataFrame'>\n",
            "RangeIndex: 1990 entries, 0 to 1989\n",
            "Data columns (total 29 columns):\n",
            " #   Column                     Non-Null Count  Dtype          \n",
            "---  ------                     --------------  -----          \n",
            " 0   Peminjaman_ID              1990 non-null   object         \n",
            " 1   Member Type                1990 non-null   object         \n",
            " 2   Title                      1990 non-null   object         \n",
            " 3   Member Name (Singkatan)    1990 non-null   object         \n",
            " 4   Item Code                  1990 non-null   object         \n",
            " 5   Loan Date                  1990 non-null   datetime64[ns] \n",
            " 6   Due Date                   1990 non-null   datetime64[ns] \n",
            " 7   Loan Status                1990 non-null   int64          \n",
            " 8   Note                       1990 non-null   object         \n",
            " 9   Loan Duration              1990 non-null   timedelta64[ns]\n",
            " 10  Book_ID                    1959 non-null   object         \n",
            " 11  GMD                        1959 non-null   object         \n",
            " 12  ISBN                       1930 non-null   object         \n",
            " 13  Penerbit                   1955 non-null   object         \n",
            " 14  Tahun Terbit               1957 non-null   Int64          \n",
            " 15  Collation                  1946 non-null   object         \n",
            " 16  Nomor Panggil              1959 non-null   object         \n",
            " 17  Bahasa                     1959 non-null   object         \n",
            " 18  Kota Terbit                1913 non-null   object         \n",
            " 19  Kelas                      1959 non-null   object         \n",
            " 20  Abstrak/Notes              1853 non-null   object         \n",
            " 21  Cover                      1945 non-null   object         \n",
            " 22  Pengarang                  1919 non-null   object         \n",
            " 23  Statement of Responbility  1958 non-null   object         \n",
            " 24  Subjek                     1791 non-null   object         \n",
            " 25  Kode Eksemplar             1958 non-null   object         \n",
            " 26  Durasi_Peminjaman          1990 non-null   int64          \n",
            " 27  Status_Peminjaman          1990 non-null   object         \n",
            " 28  Lama_Keterlambatan         1990 non-null   int64          \n",
            "dtypes: Int64(1), datetime64[ns](2), int64(3), object(22), timedelta64[ns](1)\n",
            "memory usage: 452.9+ KB\n"
          ]
        }
      ]
    },
    {
      "cell_type": "code",
      "source": [
        "peminjaman.to_excel('peminjaman.xlsx', index=False)"
      ],
      "metadata": {
        "id": "vT_6wxhy_aZO"
      },
      "execution_count": null,
      "outputs": []
    },
    {
      "cell_type": "code",
      "source": [
        "# rekap_df.to_excel('rekap_buku.xlsx', index=False)"
      ],
      "metadata": {
        "id": "81IvbPtV_92u"
      },
      "execution_count": null,
      "outputs": []
    },
    {
      "cell_type": "code",
      "source": [],
      "metadata": {
        "id": "JnZKo6NTNNqg"
      },
      "execution_count": null,
      "outputs": []
    }
  ]
}